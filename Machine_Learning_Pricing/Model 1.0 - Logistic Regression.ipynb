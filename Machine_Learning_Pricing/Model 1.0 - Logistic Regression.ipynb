{
 "cells": [
  {
   "cell_type": "code",
   "execution_count": 9,
   "metadata": {},
   "outputs": [],
   "source": [
    "import pandas as pd\n",
    "import matplotlib.pyplot as plt"
   ]
  },
  {
   "cell_type": "code",
   "execution_count": 10,
   "metadata": {},
   "outputs": [],
   "source": [
    "# Read in data from years 2015 to 2019\n",
    "\n",
    "data_2015to2019 = pd.read_csv('../Resources/FINAL_MERGE_df.csv')"
   ]
  },
  {
   "cell_type": "code",
   "execution_count": 11,
   "metadata": {},
   "outputs": [
    {
     "data": {
      "text/plain": [
       "ITIN_ID              463790\n",
       "COUPONS              463790\n",
       "YEAR                 463790\n",
       "ORIGIN_AIRPORT_ID    463790\n",
       "QUARTER              463790\n",
       "ORIGIN               463790\n",
       "DEST_AIRPORT_ID      463790\n",
       "DEST                 463790\n",
       "TICKET_CARRIER       463790\n",
       "OPERATING_CARRIER    463790\n",
       "REPORTING_CARRIER    463790\n",
       "PASSENGERS           463790\n",
       "FARE_CLASS           463790\n",
       "DISTANCE_GROUP       463790\n",
       "ITIN_GEO_TYPE        463790\n",
       "ROUNDTRIP            463790\n",
       "ITIN_FARE            463790\n",
       "MILES_FLOWN          463790\n",
       "dtype: int64"
      ]
     },
     "execution_count": 11,
     "metadata": {},
     "output_type": "execute_result"
    }
   ],
   "source": [
    "# Count datapoints before checking for null values\n",
    "\n",
    "data_2015to2019.count()"
   ]
  },
  {
   "cell_type": "code",
   "execution_count": 12,
   "metadata": {},
   "outputs": [
    {
     "data": {
      "text/plain": [
       "ITIN_ID              463790\n",
       "COUPONS              463790\n",
       "YEAR                 463790\n",
       "ORIGIN_AIRPORT_ID    463790\n",
       "QUARTER              463790\n",
       "ORIGIN               463790\n",
       "DEST_AIRPORT_ID      463790\n",
       "DEST                 463790\n",
       "TICKET_CARRIER       463790\n",
       "OPERATING_CARRIER    463790\n",
       "REPORTING_CARRIER    463790\n",
       "PASSENGERS           463790\n",
       "FARE_CLASS           463790\n",
       "DISTANCE_GROUP       463790\n",
       "ITIN_GEO_TYPE        463790\n",
       "ROUNDTRIP            463790\n",
       "ITIN_FARE            463790\n",
       "MILES_FLOWN          463790\n",
       "dtype: int64"
      ]
     },
     "execution_count": 12,
     "metadata": {},
     "output_type": "execute_result"
    }
   ],
   "source": [
    "# Drop null values if they exist (none exist) and count records\n",
    "\n",
    "data_2015to2019.dropna().count()"
   ]
  },
  {
   "cell_type": "code",
   "execution_count": 13,
   "metadata": {},
   "outputs": [
    {
     "data": {
      "text/html": [
       "<div>\n",
       "<style scoped>\n",
       "    .dataframe tbody tr th:only-of-type {\n",
       "        vertical-align: middle;\n",
       "    }\n",
       "\n",
       "    .dataframe tbody tr th {\n",
       "        vertical-align: top;\n",
       "    }\n",
       "\n",
       "    .dataframe thead th {\n",
       "        text-align: right;\n",
       "    }\n",
       "</style>\n",
       "<table border=\"1\" class=\"dataframe\">\n",
       "  <thead>\n",
       "    <tr style=\"text-align: right;\">\n",
       "      <th></th>\n",
       "      <th>YEAR</th>\n",
       "      <th>QUARTER</th>\n",
       "      <th>DEST</th>\n",
       "      <th>TICKET_CARRIER</th>\n",
       "      <th>OPERATING_CARRIER</th>\n",
       "      <th>REPORTING_CARRIER</th>\n",
       "      <th>PASSENGERS</th>\n",
       "      <th>FARE_CLASS</th>\n",
       "      <th>DISTANCE_GROUP</th>\n",
       "      <th>ITIN_GEO_TYPE</th>\n",
       "      <th>ITIN_FARE</th>\n",
       "      <th>MILES_FLOWN</th>\n",
       "    </tr>\n",
       "  </thead>\n",
       "  <tbody>\n",
       "    <tr>\n",
       "      <th>0</th>\n",
       "      <td>2019</td>\n",
       "      <td>1</td>\n",
       "      <td>BDL</td>\n",
       "      <td>DL</td>\n",
       "      <td>9E</td>\n",
       "      <td>9E</td>\n",
       "      <td>3.0</td>\n",
       "      <td>Y</td>\n",
       "      <td>2</td>\n",
       "      <td>2.0</td>\n",
       "      <td>11.0</td>\n",
       "      <td>1064.0</td>\n",
       "    </tr>\n",
       "    <tr>\n",
       "      <th>1</th>\n",
       "      <td>2019</td>\n",
       "      <td>1</td>\n",
       "      <td>BDL</td>\n",
       "      <td>DL</td>\n",
       "      <td>9E</td>\n",
       "      <td>9E</td>\n",
       "      <td>1.0</td>\n",
       "      <td>X</td>\n",
       "      <td>2</td>\n",
       "      <td>2.0</td>\n",
       "      <td>28.0</td>\n",
       "      <td>1064.0</td>\n",
       "    </tr>\n",
       "    <tr>\n",
       "      <th>2</th>\n",
       "      <td>2019</td>\n",
       "      <td>1</td>\n",
       "      <td>BDL</td>\n",
       "      <td>DL</td>\n",
       "      <td>9E</td>\n",
       "      <td>9E</td>\n",
       "      <td>1.0</td>\n",
       "      <td>X</td>\n",
       "      <td>2</td>\n",
       "      <td>2.0</td>\n",
       "      <td>159.0</td>\n",
       "      <td>1064.0</td>\n",
       "    </tr>\n",
       "    <tr>\n",
       "      <th>3</th>\n",
       "      <td>2019</td>\n",
       "      <td>1</td>\n",
       "      <td>BDL</td>\n",
       "      <td>DL</td>\n",
       "      <td>9E</td>\n",
       "      <td>9E</td>\n",
       "      <td>2.0</td>\n",
       "      <td>X</td>\n",
       "      <td>2</td>\n",
       "      <td>2.0</td>\n",
       "      <td>176.0</td>\n",
       "      <td>1064.0</td>\n",
       "    </tr>\n",
       "    <tr>\n",
       "      <th>4</th>\n",
       "      <td>2019</td>\n",
       "      <td>1</td>\n",
       "      <td>BDL</td>\n",
       "      <td>DL</td>\n",
       "      <td>9E</td>\n",
       "      <td>9E</td>\n",
       "      <td>3.0</td>\n",
       "      <td>X</td>\n",
       "      <td>2</td>\n",
       "      <td>2.0</td>\n",
       "      <td>196.0</td>\n",
       "      <td>1064.0</td>\n",
       "    </tr>\n",
       "  </tbody>\n",
       "</table>\n",
       "</div>"
      ],
      "text/plain": [
       "   YEAR  QUARTER DEST TICKET_CARRIER OPERATING_CARRIER REPORTING_CARRIER  \\\n",
       "0  2019        1  BDL             DL                9E                9E   \n",
       "1  2019        1  BDL             DL                9E                9E   \n",
       "2  2019        1  BDL             DL                9E                9E   \n",
       "3  2019        1  BDL             DL                9E                9E   \n",
       "4  2019        1  BDL             DL                9E                9E   \n",
       "\n",
       "   PASSENGERS FARE_CLASS  DISTANCE_GROUP  ITIN_GEO_TYPE  ITIN_FARE  \\\n",
       "0         3.0          Y               2            2.0       11.0   \n",
       "1         1.0          X               2            2.0       28.0   \n",
       "2         1.0          X               2            2.0      159.0   \n",
       "3         2.0          X               2            2.0      176.0   \n",
       "4         3.0          X               2            2.0      196.0   \n",
       "\n",
       "   MILES_FLOWN  \n",
       "0       1064.0  \n",
       "1       1064.0  \n",
       "2       1064.0  \n",
       "3       1064.0  \n",
       "4       1064.0  "
      ]
     },
     "execution_count": 13,
     "metadata": {},
     "output_type": "execute_result"
    }
   ],
   "source": [
    "# Remove ITIN ID column. This was used in cleaning and primarily used for databases. Should not affect data\n",
    "\n",
    "data_2015to2019 = data_2015to2019.drop(['ITIN_ID','ORIGIN','ORIGIN_AIRPORT_ID','DEST_AIRPORT_ID','COUPONS','ROUNDTRIP'], axis=1)\n",
    "data_2015to2019.head()"
   ]
  },
  {
   "cell_type": "code",
   "execution_count": 14,
   "metadata": {},
   "outputs": [],
   "source": [
    "shrink_data = data_2015to2019.sample(n=20000)"
   ]
  },
  {
   "cell_type": "code",
   "execution_count": 15,
   "metadata": {},
   "outputs": [
    {
     "data": {
      "text/html": [
       "<div>\n",
       "<style scoped>\n",
       "    .dataframe tbody tr th:only-of-type {\n",
       "        vertical-align: middle;\n",
       "    }\n",
       "\n",
       "    .dataframe tbody tr th {\n",
       "        vertical-align: top;\n",
       "    }\n",
       "\n",
       "    .dataframe thead th {\n",
       "        text-align: right;\n",
       "    }\n",
       "</style>\n",
       "<table border=\"1\" class=\"dataframe\">\n",
       "  <thead>\n",
       "    <tr style=\"text-align: right;\">\n",
       "      <th></th>\n",
       "      <th>YEAR</th>\n",
       "      <th>QUARTER</th>\n",
       "      <th>PASSENGERS</th>\n",
       "      <th>DISTANCE_GROUP</th>\n",
       "      <th>ITIN_GEO_TYPE</th>\n",
       "      <th>ITIN_FARE</th>\n",
       "      <th>MILES_FLOWN</th>\n",
       "    </tr>\n",
       "  </thead>\n",
       "  <tbody>\n",
       "    <tr>\n",
       "      <th>YEAR</th>\n",
       "      <td>1.000000</td>\n",
       "      <td>0.007321</td>\n",
       "      <td>0.016317</td>\n",
       "      <td>0.072671</td>\n",
       "      <td>-0.031100</td>\n",
       "      <td>-0.070695</td>\n",
       "      <td>0.071126</td>\n",
       "    </tr>\n",
       "    <tr>\n",
       "      <th>QUARTER</th>\n",
       "      <td>0.007321</td>\n",
       "      <td>1.000000</td>\n",
       "      <td>-0.018902</td>\n",
       "      <td>0.013090</td>\n",
       "      <td>-0.003156</td>\n",
       "      <td>-0.014230</td>\n",
       "      <td>0.014218</td>\n",
       "    </tr>\n",
       "    <tr>\n",
       "      <th>PASSENGERS</th>\n",
       "      <td>0.016317</td>\n",
       "      <td>-0.018902</td>\n",
       "      <td>1.000000</td>\n",
       "      <td>0.020075</td>\n",
       "      <td>-0.002140</td>\n",
       "      <td>-0.144116</td>\n",
       "      <td>0.009925</td>\n",
       "    </tr>\n",
       "    <tr>\n",
       "      <th>DISTANCE_GROUP</th>\n",
       "      <td>0.072671</td>\n",
       "      <td>0.013090</td>\n",
       "      <td>0.020075</td>\n",
       "      <td>1.000000</td>\n",
       "      <td>-0.039334</td>\n",
       "      <td>0.272644</td>\n",
       "      <td>0.962903</td>\n",
       "    </tr>\n",
       "    <tr>\n",
       "      <th>ITIN_GEO_TYPE</th>\n",
       "      <td>-0.031100</td>\n",
       "      <td>-0.003156</td>\n",
       "      <td>-0.002140</td>\n",
       "      <td>-0.039334</td>\n",
       "      <td>1.000000</td>\n",
       "      <td>0.024077</td>\n",
       "      <td>-0.054147</td>\n",
       "    </tr>\n",
       "    <tr>\n",
       "      <th>ITIN_FARE</th>\n",
       "      <td>-0.070695</td>\n",
       "      <td>-0.014230</td>\n",
       "      <td>-0.144116</td>\n",
       "      <td>0.272644</td>\n",
       "      <td>0.024077</td>\n",
       "      <td>1.000000</td>\n",
       "      <td>0.290297</td>\n",
       "    </tr>\n",
       "    <tr>\n",
       "      <th>MILES_FLOWN</th>\n",
       "      <td>0.071126</td>\n",
       "      <td>0.014218</td>\n",
       "      <td>0.009925</td>\n",
       "      <td>0.962903</td>\n",
       "      <td>-0.054147</td>\n",
       "      <td>0.290297</td>\n",
       "      <td>1.000000</td>\n",
       "    </tr>\n",
       "  </tbody>\n",
       "</table>\n",
       "</div>"
      ],
      "text/plain": [
       "                    YEAR   QUARTER  PASSENGERS  DISTANCE_GROUP  ITIN_GEO_TYPE  \\\n",
       "YEAR            1.000000  0.007321    0.016317        0.072671      -0.031100   \n",
       "QUARTER         0.007321  1.000000   -0.018902        0.013090      -0.003156   \n",
       "PASSENGERS      0.016317 -0.018902    1.000000        0.020075      -0.002140   \n",
       "DISTANCE_GROUP  0.072671  0.013090    0.020075        1.000000      -0.039334   \n",
       "ITIN_GEO_TYPE  -0.031100 -0.003156   -0.002140       -0.039334       1.000000   \n",
       "ITIN_FARE      -0.070695 -0.014230   -0.144116        0.272644       0.024077   \n",
       "MILES_FLOWN     0.071126  0.014218    0.009925        0.962903      -0.054147   \n",
       "\n",
       "                ITIN_FARE  MILES_FLOWN  \n",
       "YEAR            -0.070695     0.071126  \n",
       "QUARTER         -0.014230     0.014218  \n",
       "PASSENGERS      -0.144116     0.009925  \n",
       "DISTANCE_GROUP   0.272644     0.962903  \n",
       "ITIN_GEO_TYPE    0.024077    -0.054147  \n",
       "ITIN_FARE        1.000000     0.290297  \n",
       "MILES_FLOWN      0.290297     1.000000  "
      ]
     },
     "execution_count": 15,
     "metadata": {},
     "output_type": "execute_result"
    }
   ],
   "source": [
    "shrink_data.corr()"
   ]
  },
  {
   "cell_type": "code",
   "execution_count": 16,
   "metadata": {},
   "outputs": [
    {
     "data": {
      "text/plain": [
       "<matplotlib.collections.PathCollection at 0x7f9820b337b8>"
      ]
     },
     "execution_count": 16,
     "metadata": {},
     "output_type": "execute_result"
    },
    {
     "data": {
      "image/png": "[encoded data removed]",
      "text/plain": [
       "<Figure size 432x288 with 1 Axes>"
      ]
     },
     "metadata": {
      "needs_background": "light"
     },
     "output_type": "display_data"
    }
   ],
   "source": [
    "X_Passengers = shrink_data['PASSENGERS']\n",
    "\n",
    "plt.scatter(shrink_data['PASSENGERS'], shrink_data['ITIN_FARE'])\n",
    "\n",
    "#plt.plot(x_values, regress_values, color= 'r')\n",
    "#plt.title('Weight vs Average Tumor Size for Capomulin')\n",
    "#plt.xlabel('Weight (g)')\n",
    "#plt.ylabel('Timepoint (days)')\n",
    "#plt.annotate(line_eq,(19,37),color = 'r')\n",
    "#plt.annotate(f'R-Squared= {r2_value}', (19,36), color = 'r')"
   ]
  },
  {
   "cell_type": "code",
   "execution_count": 17,
   "metadata": {},
   "outputs": [
    {
     "data": {
      "text/plain": [
       "<matplotlib.collections.PathCollection at 0x7f981acc9978>"
      ]
     },
     "execution_count": 17,
     "metadata": {},
     "output_type": "execute_result"
    },
    {
     "data": {
      "image/png": "[encoded data removed]",
      "text/plain": [
       "<Figure size 432x288 with 1 Axes>"
      ]
     },
     "metadata": {
      "needs_background": "light"
     },
     "output_type": "display_data"
    }
   ],
   "source": [
    "plt.scatter(shrink_data['MILES_FLOWN'], shrink_data['ITIN_FARE'])"
   ]
  },
  {
   "cell_type": "code",
   "execution_count": 18,
   "metadata": {},
   "outputs": [
    {
     "name": "stdout",
     "output_type": "stream",
     "text": [
      "(20000, 11) (20000,)\n"
     ]
    }
   ],
   "source": [
    "# Defined independent (X) variables and dependent variable (y) for the model\n",
    "\n",
    "X = shrink_data.drop(columns=['ITIN_FARE'])\n",
    "y = shrink_data['ITIN_FARE']\n",
    "print(X.shape,y.shape)"
   ]
  },
  {
   "cell_type": "code",
   "execution_count": null,
   "metadata": {},
   "outputs": [],
   "source": [
    "data_numerical_X = pd.get_dummies(X)\n",
    "X = data_numerical_X\n",
    "X"
   ]
  },
  {
   "cell_type": "code",
   "execution_count": null,
   "metadata": {},
   "outputs": [],
   "source": [
    "# From SKlearn import RandomForestClassifier for purpose of identifying important variables\n",
    "\n",
    "from sklearn.ensemble import RandomForestClassifier\n",
    "\n",
    "rf = RandomForestClassifier(n_estimators=100)\n",
    "rf = rf.fit(X,y)\n",
    "rf.score(X,y)"
   ]
  },
  {
   "cell_type": "code",
   "execution_count": null,
   "metadata": {},
   "outputs": [],
   "source": [
    "importances = rf.feature_importances_\n",
    "importances_mapped = sorted(zip(importances , X), reverse=True)\n",
    "importances_mapped"
   ]
  },
  {
   "cell_type": "code",
   "execution_count": null,
   "metadata": {},
   "outputs": [],
   "source": [
    "X_filtered = X[['YEAR','QUARTER','PASSENGERS','MILES_FLOWN']]"
   ]
  },
  {
   "cell_type": "code",
   "execution_count": null,
   "metadata": {},
   "outputs": [],
   "source": [
    "from sklearn.model_selection import train_test_split\n",
    "\n",
    "X_train, X_test, y_train, y_test = train_test_split(X, y, random_state=42)"
   ]
  },
  {
   "cell_type": "code",
   "execution_count": null,
   "metadata": {},
   "outputs": [],
   "source": [
    "from sklearn.preprocessing import MinMaxScaler, LabelEncoder\n",
    "X_scaler = MinMaxScaler().fit(X_train)"
   ]
  },
  {
   "cell_type": "code",
   "execution_count": null,
   "metadata": {},
   "outputs": [],
   "source": [
    "X_train_scaled = X_scaler.transform(X_train)\n",
    "X_test_scaled = X_scaler.transform(X_test)"
   ]
  },
  {
   "cell_type": "code",
   "execution_count": null,
   "metadata": {},
   "outputs": [],
   "source": [
    "from sklearn.linear_model import LogisticRegression\n",
    "\n",
    "model = LogisticRegression()\n",
    "model"
   ]
  },
  {
   "cell_type": "code",
   "execution_count": null,
   "metadata": {},
   "outputs": [],
   "source": [
    "model.fit(X_train_scaled, y_train)"
   ]
  },
  {
   "cell_type": "code",
   "execution_count": null,
   "metadata": {},
   "outputs": [],
   "source": [
    "model_train_accuracy = model.score(X_train_scaled, y_train)\n",
    "model_test_accuracy = model.score(X_test_scaled, y_test)\n",
    "print(f\"Training Data Score: {model_train_accuracy}\")\n",
    "print(f\"Testing Data Score: {model_test_accuracy}\")"
   ]
  },
  {
   "cell_type": "code",
   "execution_count": null,
   "metadata": {},
   "outputs": [],
   "source": []
  }
 ],
 "metadata": {
  "kernelspec": {
   "display_name": "Python [conda env:PythonData] *",
   "language": "python",
   "name": "conda-env-PythonData-py"
  },
  "language_info": {
   "codemirror_mode": {
    "name": "ipython",
    "version": 3
   },
   "file_extension": ".py",
   "mimetype": "text/x-python",
   "name": "python",
   "nbconvert_exporter": "python",
   "pygments_lexer": "ipython3",
   "version": "3.6.10"
  }
 },
 "nbformat": 4,
 "nbformat_minor": 4
}
