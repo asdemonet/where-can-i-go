{
 "cells": [
  {
   "cell_type": "code",
   "execution_count": 1,
   "metadata": {},
   "outputs": [],
   "source": [
    "# Load the model\n",
    "from tensorflow.keras.models import load_model\n",
    "neural_model = load_model(\"neural_model_trained_d2.h5\")"
   ]
  },
  {
   "cell_type": "code",
   "execution_count": 2,
   "metadata": {},
   "outputs": [
    {
     "data": {
      "text/plain": [
       "<tensorflow.python.keras.engine.sequential.Sequential at 0x7f8e6e56fc18>"
      ]
     },
     "execution_count": 2,
     "metadata": {},
     "output_type": "execute_result"
    }
   ],
   "source": [
    "neural_model"
   ]
  },
  {
   "cell_type": "code",
   "execution_count": 11,
   "metadata": {},
   "outputs": [],
   "source": [
    "numb_coupons = 2\n",
    "numb_passengers = 1\n",
    "round_trip = 0\n",
    "miles_flown = 10000\n",
    "TICKET_CARRIER_AA =1\n",
    "TICKET_CARRIER_AS =0\n",
    "TICKET_CARRIER_B6 =0\n",
    "TICKET_CARRIER_DL =0\n",
    "TICKET_CARRIER_F9 =0\n",
    "TICKET_CARRIER_G4 =0\n",
    "TICKET_CARRIER_UA =0\n",
    "TICKET_CARRIER_VX =0\n",
    "TICKET_CARRIER_WN =0\n",
    "TICKET_CARRIER_YX =0"
   ]
  },
  {
   "cell_type": "code",
   "execution_count": 12,
   "metadata": {},
   "outputs": [],
   "source": [
    "X = [[numb_coupons,numb_passengers,round_trip,miles_flown,TICKET_CARRIER_AA,TICKET_CARRIER_AS, \\\n",
    "      TICKET_CARRIER_B6,TICKET_CARRIER_DL,TICKET_CARRIER_F9,TICKET_CARRIER_G4,TICKET_CARRIER_UA, \\\n",
    "     TICKET_CARRIER_VX, TICKET_CARRIER_WN, TICKET_CARRIER_YX]]"
   ]
  },
  {
   "cell_type": "code",
   "execution_count": 13,
   "metadata": {},
   "outputs": [
    {
     "data": {
      "text/plain": [
       "array([[0., 1., 0.]], dtype=float32)"
      ]
     },
     "execution_count": 13,
     "metadata": {},
     "output_type": "execute_result"
    }
   ],
   "source": [
    "prediction = neural_model.predict(X)\n",
    "prediction"
   ]
  },
  {
   "cell_type": "code",
   "execution_count": 14,
   "metadata": {},
   "outputs": [
    {
     "data": {
      "text/plain": [
       "['Medium']"
      ]
     },
     "execution_count": 14,
     "metadata": {},
     "output_type": "execute_result"
    }
   ],
   "source": [
    "prediction_cat = []\n",
    "\n",
    "for list_s in prediction:\n",
    "    if list_s[0] == 1:\n",
    "        prediction_cat.append(\"Low\")\n",
    "    elif list_s[1] == 1:\n",
    "        prediction_cat.append(\"Medium\")\n",
    "    else:\n",
    "        prediction_cat.append(\"High\")\n",
    "\n",
    "prediction_cat"
   ]
  },
  {
   "cell_type": "code",
   "execution_count": null,
   "metadata": {},
   "outputs": [],
   "source": []
  }
 ],
 "metadata": {
  "kernelspec": {
   "display_name": "Python [conda env:PythonData] *",
   "language": "python",
   "name": "conda-env-PythonData-py"
  },
  "language_info": {
   "codemirror_mode": {
    "name": "ipython",
    "version": 3
   },
   "file_extension": ".py",
   "mimetype": "text/x-python",
   "name": "python",
   "nbconvert_exporter": "python",
   "pygments_lexer": "ipython3",
   "version": "3.6.10"
  }
 },
 "nbformat": 4,
 "nbformat_minor": 4
}
