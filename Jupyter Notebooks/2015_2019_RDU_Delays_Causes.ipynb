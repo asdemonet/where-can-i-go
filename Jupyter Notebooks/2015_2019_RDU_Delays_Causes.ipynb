{
 "cells": [
  {
   "cell_type": "code",
   "execution_count": 1,
   "metadata": {},
   "outputs": [],
   "source": [
    "import pandas as pd\n",
    "import numpy as np"
   ]
  },
  {
   "cell_type": "code",
   "execution_count": 2,
   "metadata": {},
   "outputs": [],
   "source": [
    "RDU_2015_df = pd.read_csv('RDU_2015.csv')\n",
    "RDU_2016_df = pd.read_csv('RDU_2016.csv')\n",
    "RDU_2017_df = pd.read_csv('RDU_2017.csv')\n",
    "RDU_2018_df = pd.read_csv('RDU_2018.csv')\n",
    "RDU_2019_df = pd.read_csv('RDU_2019.csv')\n"
   ]
  },
  {
   "cell_type": "code",
   "execution_count": 3,
   "metadata": {},
   "outputs": [],
   "source": [
    "RDU_2015_19_df = RDU_2015_df.append(RDU_2016_df)\n",
    "RDU_2015_19_df = RDU_2015_19_df.append(RDU_2017_df)\n",
    "RDU_2015_19_df = RDU_2015_19_df.append(RDU_2018_df)\n",
    "RDU_2015_19_df = RDU_2015_19_df.append(RDU_2019_df)"
   ]
  },
  {
   "cell_type": "code",
   "execution_count": 4,
   "metadata": {},
   "outputs": [],
   "source": [
    "RDU_2015_19_df.to_csv('RDU_2015_19_Delays_Causes.csv')"
   ]
  },
  {
   "cell_type": "code",
   "execution_count": null,
   "metadata": {},
   "outputs": [],
   "source": []
  }
 ],
 "metadata": {
  "kernelspec": {
   "display_name": "Python 3",
   "language": "python",
   "name": "python3"
  },
  "language_info": {
   "codemirror_mode": {
    "name": "ipython",
    "version": 3
   },
   "file_extension": ".py",
   "mimetype": "text/x-python",
   "name": "python",
   "nbconvert_exporter": "python",
   "pygments_lexer": "ipython3",
   "version": "3.8.3"
  }
 },
 "nbformat": 4,
 "nbformat_minor": 4
}
