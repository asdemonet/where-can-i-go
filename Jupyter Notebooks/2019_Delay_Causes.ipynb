{
 "cells": [
  {
   "cell_type": "code",
   "execution_count": 1,
   "metadata": {},
   "outputs": [],
   "source": [
    "import pandas as pd\n",
    "import numpy as np"
   ]
  },
  {
   "cell_type": "code",
   "execution_count": 2,
   "metadata": {},
   "outputs": [],
   "source": [
    "JAN2019_df = pd.read_csv('JAN2019_ONTIME_REPORTING.csv')\n",
    "FEB2019_df = pd.read_csv('FEB2019_ONTIME_REPORTING.csv')\n",
    "MAR2019_df = pd.read_csv('MAR2019_ONTIME_REPORTING.csv')\n",
    "APR2019_df = pd.read_csv('APR2019_ONTIME_REPORTING.csv')\n",
    "MAY2019_df = pd.read_csv('MAY2019_ONTIME_REPORTING.csv')\n",
    "JUN2019_df = pd.read_csv('JUN2019_ONTIME_REPORTING.csv')\n",
    "JUL2019_df = pd.read_csv('JUL2019_ONTIME_REPORTING.csv')\n",
    "AUG2019_df = pd.read_csv('AUG2019_ONTIME_REPORTING.csv')\n",
    "SEP2019_df = pd.read_csv('SEP2019_ONTIME_REPORTING.csv')\n",
    "OCT2019_df = pd.read_csv('OCT2019_ONTIME_REPORTING.csv')\n",
    "NOV2019_df = pd.read_csv('NOV2019_ONTIME_REPORTING.csv')\n",
    "DEC2019_df = pd.read_csv('DEC2019_ONTIME_REPORTING.csv')"
   ]
  },
  {
   "cell_type": "code",
   "execution_count": 3,
   "metadata": {},
   "outputs": [],
   "source": [
    "RDU_JAN2019_df = JAN2019_df.loc[(JAN2019_df[\"ORIGIN\"] == \"RDU\"),:]\n",
    "RDU_FEB2019_df = FEB2019_df.loc[(FEB2019_df[\"ORIGIN\"] == \"RDU\"),:]\n",
    "RDU_MAR2019_df = MAR2019_df.loc[(MAR2019_df[\"ORIGIN\"] == \"RDU\"),:]\n",
    "RDU_APR2019_df = APR2019_df.loc[(APR2019_df[\"ORIGIN\"] == \"RDU\"),:]\n",
    "RDU_MAY2019_df = MAY2019_df.loc[(MAY2019_df[\"ORIGIN\"] == \"RDU\"),:]\n",
    "RDU_JUN2019_df = JUN2019_df.loc[(JUN2019_df[\"ORIGIN\"] == \"RDU\"),:]\n",
    "RDU_JUL2019_df = JUL2019_df.loc[(JUL2019_df[\"ORIGIN\"] == \"RDU\"),:]\n",
    "RDU_AUG2019_df = AUG2019_df.loc[(AUG2019_df[\"ORIGIN\"] == \"RDU\"),:]\n",
    "RDU_SEP2019_df = SEP2019_df.loc[(SEP2019_df[\"ORIGIN\"] == \"RDU\"),:]\n",
    "RDU_OCT2019_df = OCT2019_df.loc[(OCT2019_df[\"ORIGIN\"] == \"RDU\"),:]\n",
    "RDU_NOV2019_df = NOV2019_df.loc[(NOV2019_df[\"ORIGIN\"] == \"RDU\"),:]\n",
    "RDU_DEC2019_df = DEC2019_df.loc[(DEC2019_df[\"ORIGIN\"] == \"RDU\"),:]"
   ]
  },
  {
   "cell_type": "code",
   "execution_count": 4,
   "metadata": {},
   "outputs": [],
   "source": [
    "RDU_2019_df = RDU_JAN2019_df.append(RDU_FEB2019_df)\n",
    "RDU_2019_df = RDU_2019_df.append(RDU_MAR2019_df)\n",
    "RDU_2019_df = RDU_2019_df.append(RDU_APR2019_df)\n",
    "RDU_2019_df = RDU_2019_df.append(RDU_MAY2019_df)\n",
    "RDU_2019_df = RDU_2019_df.append(RDU_JUN2019_df)\n",
    "RDU_2019_df = RDU_2019_df.append(RDU_JUL2019_df)\n",
    "RDU_2019_df = RDU_2019_df.append(RDU_AUG2019_df)\n",
    "RDU_2019_df = RDU_2019_df.append(RDU_SEP2019_df)\n",
    "RDU_2019_df = RDU_2019_df.append(RDU_OCT2019_df)\n",
    "RDU_2019_df = RDU_2019_df.append(RDU_NOV2019_df)\n",
    "RDU_2019_df = RDU_2019_df.append(RDU_DEC2019_df)"
   ]
  },
  {
   "cell_type": "code",
   "execution_count": 5,
   "metadata": {},
   "outputs": [],
   "source": [
    "RDU_2019_df.to_csv('RDU_2019.csv')"
   ]
  },
  {
   "cell_type": "code",
   "execution_count": null,
   "metadata": {},
   "outputs": [],
   "source": []
  }
 ],
 "metadata": {
  "kernelspec": {
   "display_name": "Python 3",
   "language": "python",
   "name": "python3"
  },
  "language_info": {
   "codemirror_mode": {
    "name": "ipython",
    "version": 3
   },
   "file_extension": ".py",
   "mimetype": "text/x-python",
   "name": "python",
   "nbconvert_exporter": "python",
   "pygments_lexer": "ipython3",
   "version": "3.8.3"
  }
 },
 "nbformat": 4,
 "nbformat_minor": 4
}
