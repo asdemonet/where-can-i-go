{
 "cells": [
  {
   "cell_type": "code",
   "execution_count": 1,
   "metadata": {},
   "outputs": [],
   "source": [
    "import pandas as pd\n",
    "import numpy as np"
   ]
  },
  {
   "cell_type": "code",
   "execution_count": 2,
   "metadata": {},
   "outputs": [
    {
     "name": "stderr",
     "output_type": "stream",
     "text": [
      "/Users/ajwu/opt/anaconda3/lib/python3.8/site-packages/IPython/core/interactiveshell.py:3071: DtypeWarning: Columns (38) have mixed types.Specify dtype option on import or set low_memory=False.\n",
      "  has_raised = await self.run_ast_nodes(code_ast.body, cell_name,\n"
     ]
    }
   ],
   "source": [
    "JAN2016_df = pd.read_csv('JAN2016_ONTIME_REPORTING.csv')\n",
    "FEB2016_df = pd.read_csv('FEB2016_ONTIME_REPORTING.csv')\n",
    "MAR2016_df = pd.read_csv('MAR2016_ONTIME_REPORTING.csv')\n",
    "APR2016_df = pd.read_csv('APR2016_ONTIME_REPORTING.csv')\n",
    "MAY2016_df = pd.read_csv('MAY2016_ONTIME_REPORTING.csv')\n",
    "JUN2016_df = pd.read_csv('JUN2016_ONTIME_REPORTING.csv')\n",
    "JUL2016_df = pd.read_csv('JUL2016_ONTIME_REPORTING.csv')\n",
    "AUG2016_df = pd.read_csv('AUG2016_ONTIME_REPORTING.csv')\n",
    "SEP2016_df = pd.read_csv('SEP2016_ONTIME_REPORTING.csv')\n",
    "OCT2016_df = pd.read_csv('OCT2016_ONTIME_REPORTING.csv')\n",
    "NOV2016_df = pd.read_csv('NOV2016_ONTIME_REPORTING.csv')\n",
    "DEC2016_df = pd.read_csv('DEC2016_ONTIME_REPORTING.csv')"
   ]
  },
  {
   "cell_type": "code",
   "execution_count": 3,
   "metadata": {},
   "outputs": [],
   "source": [
    "RDU_JAN2016_df = JAN2016_df.loc[(JAN2016_df[\"ORIGIN\"] == \"RDU\"),:]\n",
    "RDU_FEB2016_df = FEB2016_df.loc[(FEB2016_df[\"ORIGIN\"] == \"RDU\"),:]\n",
    "RDU_MAR2016_df = MAR2016_df.loc[(MAR2016_df[\"ORIGIN\"] == \"RDU\"),:]\n",
    "RDU_APR2016_df = APR2016_df.loc[(APR2016_df[\"ORIGIN\"] == \"RDU\"),:]\n",
    "RDU_MAY2016_df = MAY2016_df.loc[(MAY2016_df[\"ORIGIN\"] == \"RDU\"),:]\n",
    "RDU_JUN2016_df = JUN2016_df.loc[(JUN2016_df[\"ORIGIN\"] == \"RDU\"),:]\n",
    "RDU_JUL2016_df = JUL2016_df.loc[(JUL2016_df[\"ORIGIN\"] == \"RDU\"),:]\n",
    "RDU_AUG2016_df = AUG2016_df.loc[(AUG2016_df[\"ORIGIN\"] == \"RDU\"),:]\n",
    "RDU_SEP2016_df = SEP2016_df.loc[(SEP2016_df[\"ORIGIN\"] == \"RDU\"),:]\n",
    "RDU_OCT2016_df = OCT2016_df.loc[(OCT2016_df[\"ORIGIN\"] == \"RDU\"),:]\n",
    "RDU_NOV2016_df = NOV2016_df.loc[(NOV2016_df[\"ORIGIN\"] == \"RDU\"),:]\n",
    "RDU_DEC2016_df = DEC2016_df.loc[(DEC2016_df[\"ORIGIN\"] == \"RDU\"),:]"
   ]
  },
  {
   "cell_type": "code",
   "execution_count": 4,
   "metadata": {},
   "outputs": [],
   "source": [
    "RDU_2016_df = RDU_JAN2016_df.append(RDU_FEB2016_df)\n",
    "RDU_2016_df = RDU_2016_df.append(RDU_MAR2016_df)\n",
    "RDU_2016_df = RDU_2016_df.append(RDU_APR2016_df)\n",
    "RDU_2016_df = RDU_2016_df.append(RDU_MAY2016_df)\n",
    "RDU_2016_df = RDU_2016_df.append(RDU_JUN2016_df)\n",
    "RDU_2016_df = RDU_2016_df.append(RDU_JUL2016_df)\n",
    "RDU_2016_df = RDU_2016_df.append(RDU_AUG2016_df)\n",
    "RDU_2016_df = RDU_2016_df.append(RDU_SEP2016_df)\n",
    "RDU_2016_df = RDU_2016_df.append(RDU_OCT2016_df)\n",
    "RDU_2016_df = RDU_2016_df.append(RDU_NOV2016_df)\n",
    "RDU_2016_df = RDU_2016_df.append(RDU_DEC2016_df)"
   ]
  },
  {
   "cell_type": "code",
   "execution_count": 5,
   "metadata": {},
   "outputs": [],
   "source": [
    "RDU_2016_df.to_csv('RDU_2016.csv')"
   ]
  },
  {
   "cell_type": "code",
   "execution_count": null,
   "metadata": {},
   "outputs": [],
   "source": []
  }
 ],
 "metadata": {
  "kernelspec": {
   "display_name": "Python 3",
   "language": "python",
   "name": "python3"
  },
  "language_info": {
   "codemirror_mode": {
    "name": "ipython",
    "version": 3
   },
   "file_extension": ".py",
   "mimetype": "text/x-python",
   "name": "python",
   "nbconvert_exporter": "python",
   "pygments_lexer": "ipython3",
   "version": "3.8.3"
  }
 },
 "nbformat": 4,
 "nbformat_minor": 4
}
