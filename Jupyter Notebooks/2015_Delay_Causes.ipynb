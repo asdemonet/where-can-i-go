{
 "cells": [
  {
   "cell_type": "code",
   "execution_count": 1,
   "metadata": {},
   "outputs": [],
   "source": [
    "import pandas as pd\n",
    "import numpy as np"
   ]
  },
  {
   "cell_type": "code",
   "execution_count": 2,
   "metadata": {},
   "outputs": [],
   "source": [
    "JAN2015_df = pd.read_csv('JAN2015_ONTIME_REPORTING.csv')\n",
    "FEB2015_df = pd.read_csv('FEB2015_ONTIME_REPORTING.csv')\n",
    "MAR2015_df = pd.read_csv('MAR2015_ONTIME_REPORTING.csv')\n",
    "APR2015_df = pd.read_csv('APR2015_ONTIME_REPORTING.csv')\n",
    "MAY2015_df = pd.read_csv('MAY2015_ONTIME_REPORTING.csv')\n",
    "JUN2015_df = pd.read_csv('JUN2015_ONTIME_REPORTING.csv')\n",
    "JUL2015_df = pd.read_csv('JUL2015_ONTIME_REPORTING.csv')\n",
    "AUG2015_df = pd.read_csv('AUG2015_ONTIME_REPORTING.csv')\n",
    "SEP2015_df = pd.read_csv('SEP2015_ONTIME_REPORTING.csv')\n",
    "OCT2015_df = pd.read_csv('OCT2015_ONTIME_REPORTING.csv')\n",
    "NOV2015_df = pd.read_csv('NOV2015_ONTIME_REPORTING.csv')\n",
    "DEC2015_df = pd.read_csv('DEC2015_ONTIME_REPORTING.csv')"
   ]
  },
  {
   "cell_type": "code",
   "execution_count": 3,
   "metadata": {},
   "outputs": [],
   "source": [
    "RDU_JAN2015_df = JAN2015_df.loc[(JAN2015_df[\"ORIGIN\"] == \"RDU\"),:]\n",
    "RDU_FEB2015_df = FEB2015_df.loc[(FEB2015_df[\"ORIGIN\"] == \"RDU\"),:]\n",
    "RDU_MAR2015_df = MAR2015_df.loc[(MAR2015_df[\"ORIGIN\"] == \"RDU\"),:]\n",
    "RDU_APR2015_df = APR2015_df.loc[(APR2015_df[\"ORIGIN\"] == \"RDU\"),:]\n",
    "RDU_MAY2015_df = MAY2015_df.loc[(MAY2015_df[\"ORIGIN\"] == \"RDU\"),:]\n",
    "RDU_JUN2015_df = JUN2015_df.loc[(JUN2015_df[\"ORIGIN\"] == \"RDU\"),:]\n",
    "RDU_JUL2015_df = JUL2015_df.loc[(JUL2015_df[\"ORIGIN\"] == \"RDU\"),:]\n",
    "RDU_AUG2015_df = AUG2015_df.loc[(AUG2015_df[\"ORIGIN\"] == \"RDU\"),:]\n",
    "RDU_SEP2015_df = SEP2015_df.loc[(SEP2015_df[\"ORIGIN\"] == \"RDU\"),:]\n",
    "RDU_OCT2015_df = OCT2015_df.loc[(OCT2015_df[\"ORIGIN\"] == \"RDU\"),:]\n",
    "RDU_NOV2015_df = NOV2015_df.loc[(NOV2015_df[\"ORIGIN\"] == \"RDU\"),:]\n",
    "RDU_DEC2015_df = DEC2015_df.loc[(DEC2015_df[\"ORIGIN\"] == \"RDU\"),:]"
   ]
  },
  {
   "cell_type": "code",
   "execution_count": 4,
   "metadata": {},
   "outputs": [],
   "source": [
    "RDU_2015_df = RDU_JAN2015_df.append(RDU_FEB2015_df)\n",
    "RDU_2015_df = RDU_2015_df.append(RDU_MAR2015_df)\n",
    "RDU_2015_df = RDU_2015_df.append(RDU_APR2015_df)\n",
    "RDU_2015_df = RDU_2015_df.append(RDU_MAY2015_df)\n",
    "RDU_2015_df = RDU_2015_df.append(RDU_JUN2015_df)\n",
    "RDU_2015_df = RDU_2015_df.append(RDU_JUL2015_df)\n",
    "RDU_2015_df = RDU_2015_df.append(RDU_AUG2015_df)\n",
    "RDU_2015_df = RDU_2015_df.append(RDU_SEP2015_df)\n",
    "RDU_2015_df = RDU_2015_df.append(RDU_OCT2015_df)\n",
    "RDU_2015_df = RDU_2015_df.append(RDU_NOV2015_df)\n",
    "RDU_2015_df = RDU_2015_df.append(RDU_DEC2015_df)"
   ]
  },
  {
   "cell_type": "code",
   "execution_count": 5,
   "metadata": {},
   "outputs": [],
   "source": [
    "RDU_2015_df.to_csv('RDU_2015.csv')"
   ]
  },
  {
   "cell_type": "code",
   "execution_count": null,
   "metadata": {},
   "outputs": [],
   "source": []
  }
 ],
 "metadata": {
  "kernelspec": {
   "display_name": "Python 3",
   "language": "python",
   "name": "python3"
  },
  "language_info": {
   "codemirror_mode": {
    "name": "ipython",
    "version": 3
   },
   "file_extension": ".py",
   "mimetype": "text/x-python",
   "name": "python",
   "nbconvert_exporter": "python",
   "pygments_lexer": "ipython3",
   "version": "3.6.10"
  }
 },
 "nbformat": 4,
 "nbformat_minor": 4
}
