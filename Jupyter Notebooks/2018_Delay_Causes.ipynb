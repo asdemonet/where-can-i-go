{
 "cells": [
  {
   "cell_type": "code",
   "execution_count": 1,
   "metadata": {},
   "outputs": [],
   "source": [
    "import pandas as pd\n",
    "import numpy as np"
   ]
  },
  {
   "cell_type": "code",
   "execution_count": 2,
   "metadata": {},
   "outputs": [
    {
     "name": "stderr",
     "output_type": "stream",
     "text": [
      "/Users/ajwu/opt/anaconda3/lib/python3.8/site-packages/IPython/core/interactiveshell.py:3071: DtypeWarning: Columns (38) have mixed types.Specify dtype option on import or set low_memory=False.\n",
      "  has_raised = await self.run_ast_nodes(code_ast.body, cell_name,\n"
     ]
    }
   ],
   "source": [
    "JAN2018_df = pd.read_csv('JAN2018_ONTIME_REPORTING.csv')\n",
    "FEB2018_df = pd.read_csv('FEB2018_ONTIME_REPORTING.csv')\n",
    "MAR2018_df = pd.read_csv('MAR2018_ONTIME_REPORTING.csv')\n",
    "APR2018_df = pd.read_csv('APR2018_ONTIME_REPORTING.csv')\n",
    "MAY2018_df = pd.read_csv('MAY2018_ONTIME_REPORTING.csv')\n",
    "JUN2018_df = pd.read_csv('JUN2018_ONTIME_REPORTING.csv')\n",
    "JUL2018_df = pd.read_csv('JUL2018_ONTIME_REPORTING.csv')\n",
    "AUG2018_df = pd.read_csv('AUG2018_ONTIME_REPORTING.csv')\n",
    "SEP2018_df = pd.read_csv('SEP2018_ONTIME_REPORTING.csv')\n",
    "OCT2018_df = pd.read_csv('OCT2018_ONTIME_REPORTING.csv')\n",
    "NOV2018_df = pd.read_csv('NOV2018_ONTIME_REPORTING.csv')\n",
    "DEC2018_df = pd.read_csv('DEC2018_ONTIME_REPORTING.csv')"
   ]
  },
  {
   "cell_type": "code",
   "execution_count": 3,
   "metadata": {},
   "outputs": [],
   "source": [
    "RDU_JAN2018_df = JAN2018_df.loc[(JAN2018_df[\"ORIGIN\"] == \"RDU\"),:]\n",
    "RDU_FEB2018_df = FEB2018_df.loc[(FEB2018_df[\"ORIGIN\"] == \"RDU\"),:]\n",
    "RDU_MAR2018_df = MAR2018_df.loc[(MAR2018_df[\"ORIGIN\"] == \"RDU\"),:]\n",
    "RDU_APR2018_df = APR2018_df.loc[(APR2018_df[\"ORIGIN\"] == \"RDU\"),:]\n",
    "RDU_MAY2018_df = MAY2018_df.loc[(MAY2018_df[\"ORIGIN\"] == \"RDU\"),:]\n",
    "RDU_JUN2018_df = JUN2018_df.loc[(JUN2018_df[\"ORIGIN\"] == \"RDU\"),:]\n",
    "RDU_JUL2018_df = JUL2018_df.loc[(JUL2018_df[\"ORIGIN\"] == \"RDU\"),:]\n",
    "RDU_AUG2018_df = AUG2018_df.loc[(AUG2018_df[\"ORIGIN\"] == \"RDU\"),:]\n",
    "RDU_SEP2018_df = SEP2018_df.loc[(SEP2018_df[\"ORIGIN\"] == \"RDU\"),:]\n",
    "RDU_OCT2018_df = OCT2018_df.loc[(OCT2018_df[\"ORIGIN\"] == \"RDU\"),:]\n",
    "RDU_NOV2018_df = NOV2018_df.loc[(NOV2018_df[\"ORIGIN\"] == \"RDU\"),:]\n",
    "RDU_DEC2018_df = DEC2018_df.loc[(DEC2018_df[\"ORIGIN\"] == \"RDU\"),:]"
   ]
  },
  {
   "cell_type": "code",
   "execution_count": 4,
   "metadata": {},
   "outputs": [],
   "source": [
    "RDU_2018_df = RDU_JAN2018_df.append(RDU_FEB2018_df)\n",
    "RDU_2018_df = RDU_2018_df.append(RDU_MAR2018_df)\n",
    "RDU_2018_df = RDU_2018_df.append(RDU_APR2018_df)\n",
    "RDU_2018_df = RDU_2018_df.append(RDU_MAY2018_df)\n",
    "RDU_2018_df = RDU_2018_df.append(RDU_JUN2018_df)\n",
    "RDU_2018_df = RDU_2018_df.append(RDU_JUL2018_df)\n",
    "RDU_2018_df = RDU_2018_df.append(RDU_AUG2018_df)\n",
    "RDU_2018_df = RDU_2018_df.append(RDU_SEP2018_df)\n",
    "RDU_2018_df = RDU_2018_df.append(RDU_OCT2018_df)\n",
    "RDU_2018_df = RDU_2018_df.append(RDU_NOV2018_df)\n",
    "RDU_2018_df = RDU_2018_df.append(RDU_DEC2018_df)"
   ]
  },
  {
   "cell_type": "code",
   "execution_count": 5,
   "metadata": {},
   "outputs": [],
   "source": [
    "RDU_2018_df.to_csv('RDU_2018.csv')"
   ]
  },
  {
   "cell_type": "code",
   "execution_count": null,
   "metadata": {},
   "outputs": [],
   "source": []
  }
 ],
 "metadata": {
  "kernelspec": {
   "display_name": "Python 3",
   "language": "python",
   "name": "python3"
  },
  "language_info": {
   "codemirror_mode": {
    "name": "ipython",
    "version": 3
   },
   "file_extension": ".py",
   "mimetype": "text/x-python",
   "name": "python",
   "nbconvert_exporter": "python",
   "pygments_lexer": "ipython3",
   "version": "3.8.3"
  }
 },
 "nbformat": 4,
 "nbformat_minor": 4
}
