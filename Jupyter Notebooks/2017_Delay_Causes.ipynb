{
 "cells": [
  {
   "cell_type": "code",
   "execution_count": 1,
   "metadata": {},
   "outputs": [],
   "source": [
    "import pandas as pd\n",
    "import numpy as np"
   ]
  },
  {
   "cell_type": "code",
   "execution_count": 2,
   "metadata": {},
   "outputs": [
    {
     "name": "stderr",
     "output_type": "stream",
     "text": [
      "/Users/ajwu/opt/anaconda3/lib/python3.8/site-packages/IPython/core/interactiveshell.py:3071: DtypeWarning: Columns (38) have mixed types.Specify dtype option on import or set low_memory=False.\n",
      "  has_raised = await self.run_ast_nodes(code_ast.body, cell_name,\n"
     ]
    }
   ],
   "source": [
    "JAN2017_df = pd.read_csv('JAN2017_ONTIME_REPORTING.csv')\n",
    "FEB2017_df = pd.read_csv('FEB2017_ONTIME_REPORTING.csv')\n",
    "MAR2017_df = pd.read_csv('MAR2017_ONTIME_REPORTING.csv')\n",
    "APR2017_df = pd.read_csv('APR2017_ONTIME_REPORTING.csv')\n",
    "MAY2017_df = pd.read_csv('MAY2017_ONTIME_REPORTING.csv')\n",
    "JUN2017_df = pd.read_csv('JUN2017_ONTIME_REPORTING.csv')\n",
    "JUL2017_df = pd.read_csv('JUL2017_ONTIME_REPORTING.csv')\n",
    "AUG2017_df = pd.read_csv('AUG2017_ONTIME_REPORTING.csv')\n",
    "SEP2017_df = pd.read_csv('SEP2017_ONTIME_REPORTING.csv')\n",
    "OCT2017_df = pd.read_csv('OCT2017_ONTIME_REPORTING.csv')\n",
    "NOV2017_df = pd.read_csv('NOV2017_ONTIME_REPORTING.csv')\n",
    "DEC2017_df = pd.read_csv('DEC2017_ONTIME_REPORTING.csv')"
   ]
  },
  {
   "cell_type": "code",
   "execution_count": 3,
   "metadata": {},
   "outputs": [],
   "source": [
    "RDU_JAN2017_df = JAN2017_df.loc[(JAN2017_df[\"ORIGIN\"] == \"RDU\"),:]\n",
    "RDU_FEB2017_df = FEB2017_df.loc[(FEB2017_df[\"ORIGIN\"] == \"RDU\"),:]\n",
    "RDU_MAR2017_df = MAR2017_df.loc[(MAR2017_df[\"ORIGIN\"] == \"RDU\"),:]\n",
    "RDU_APR2017_df = APR2017_df.loc[(APR2017_df[\"ORIGIN\"] == \"RDU\"),:]\n",
    "RDU_MAY2017_df = MAY2017_df.loc[(MAY2017_df[\"ORIGIN\"] == \"RDU\"),:]\n",
    "RDU_JUN2017_df = JUN2017_df.loc[(JUN2017_df[\"ORIGIN\"] == \"RDU\"),:]\n",
    "RDU_JUL2017_df = JUL2017_df.loc[(JUL2017_df[\"ORIGIN\"] == \"RDU\"),:]\n",
    "RDU_AUG2017_df = AUG2017_df.loc[(AUG2017_df[\"ORIGIN\"] == \"RDU\"),:]\n",
    "RDU_SEP2017_df = SEP2017_df.loc[(SEP2017_df[\"ORIGIN\"] == \"RDU\"),:]\n",
    "RDU_OCT2017_df = OCT2017_df.loc[(OCT2017_df[\"ORIGIN\"] == \"RDU\"),:]\n",
    "RDU_NOV2017_df = NOV2017_df.loc[(NOV2017_df[\"ORIGIN\"] == \"RDU\"),:]\n",
    "RDU_DEC2017_df = DEC2017_df.loc[(DEC2017_df[\"ORIGIN\"] == \"RDU\"),:]"
   ]
  },
  {
   "cell_type": "code",
   "execution_count": 4,
   "metadata": {},
   "outputs": [],
   "source": [
    "RDU_2017_df = RDU_JAN2017_df.append(RDU_FEB2017_df)\n",
    "RDU_2017_df = RDU_2017_df.append(RDU_MAR2017_df)\n",
    "RDU_2017_df = RDU_2017_df.append(RDU_APR2017_df)\n",
    "RDU_2017_df = RDU_2017_df.append(RDU_MAY2017_df)\n",
    "RDU_2017_df = RDU_2017_df.append(RDU_JUN2017_df)\n",
    "RDU_2017_df = RDU_2017_df.append(RDU_JUL2017_df)\n",
    "RDU_2017_df = RDU_2017_df.append(RDU_AUG2017_df)\n",
    "RDU_2017_df = RDU_2017_df.append(RDU_SEP2017_df)\n",
    "RDU_2017_df = RDU_2017_df.append(RDU_OCT2017_df)\n",
    "RDU_2017_df = RDU_2017_df.append(RDU_NOV2017_df)\n",
    "RDU_2017_df = RDU_2017_df.append(RDU_DEC2017_df)"
   ]
  },
  {
   "cell_type": "code",
   "execution_count": 5,
   "metadata": {},
   "outputs": [],
   "source": [
    "RDU_2017_df.to_csv('RDU_2017.csv')"
   ]
  },
  {
   "cell_type": "code",
   "execution_count": null,
   "metadata": {},
   "outputs": [],
   "source": []
  }
 ],
 "metadata": {
  "kernelspec": {
   "display_name": "Python 3",
   "language": "python",
   "name": "python3"
  },
  "language_info": {
   "codemirror_mode": {
    "name": "ipython",
    "version": 3
   },
   "file_extension": ".py",
   "mimetype": "text/x-python",
   "name": "python",
   "nbconvert_exporter": "python",
   "pygments_lexer": "ipython3",
   "version": "3.8.3"
  }
 },
 "nbformat": 4,
 "nbformat_minor": 4
}
