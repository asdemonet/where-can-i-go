{
 "cells": [
  {
   "cell_type": "code",
   "execution_count": 65,
   "metadata": {},
   "outputs": [],
   "source": [
    "import pandas as pd\n",
    "import numpy as np\n",
    "from sklearn.tree import DecisionTreeClassifier\n",
    "from sklearn.model_selection import train_test_split\n",
    "from sklearn.metrics import accuracy_score"
   ]
  },
  {
   "cell_type": "code",
   "execution_count": 66,
   "metadata": {},
   "outputs": [
    {
     "data": {
      "text/html": [
       "<div>\n",
       "<style scoped>\n",
       "    .dataframe tbody tr th:only-of-type {\n",
       "        vertical-align: middle;\n",
       "    }\n",
       "\n",
       "    .dataframe tbody tr th {\n",
       "        vertical-align: top;\n",
       "    }\n",
       "\n",
       "    .dataframe thead th {\n",
       "        text-align: right;\n",
       "    }\n",
       "</style>\n",
       "<table border=\"1\" class=\"dataframe\">\n",
       "  <thead>\n",
       "    <tr style=\"text-align: right;\">\n",
       "      <th></th>\n",
       "      <th>YEAR</th>\n",
       "      <th>QUARTER</th>\n",
       "      <th>MONTH</th>\n",
       "      <th>DAY_OF_MONTH</th>\n",
       "      <th>DAY_OF_WEEK</th>\n",
       "      <th>FL_DATE</th>\n",
       "      <th>OP_UNIQUE_CARRIER</th>\n",
       "      <th>OP_CARRIER_FL_NUM</th>\n",
       "      <th>ORIGIN_AIRPORT_ID</th>\n",
       "      <th>ORIGIN</th>\n",
       "      <th>...</th>\n",
       "      <th>CRS_ELAPSED_TIME</th>\n",
       "      <th>ACTUAL_ELAPSED_TIME</th>\n",
       "      <th>AIR_TIME</th>\n",
       "      <th>DISTANCE</th>\n",
       "      <th>DISTANCE_GROUP</th>\n",
       "      <th>CARRIER_DELAY</th>\n",
       "      <th>WEATHER_DELAY</th>\n",
       "      <th>NAS_DELAY</th>\n",
       "      <th>SECURITY_DELAY</th>\n",
       "      <th>LATE_AIRCRAFT_DELAY</th>\n",
       "    </tr>\n",
       "  </thead>\n",
       "  <tbody>\n",
       "    <tr>\n",
       "      <th>0</th>\n",
       "      <td>2015</td>\n",
       "      <td>1</td>\n",
       "      <td>1</td>\n",
       "      <td>1</td>\n",
       "      <td>4</td>\n",
       "      <td>1/1/15</td>\n",
       "      <td>AA</td>\n",
       "      <td>1302</td>\n",
       "      <td>14492</td>\n",
       "      <td>RDU</td>\n",
       "      <td>...</td>\n",
       "      <td>190</td>\n",
       "      <td>188.0</td>\n",
       "      <td>171.0</td>\n",
       "      <td>1061</td>\n",
       "      <td>5</td>\n",
       "      <td>NaN</td>\n",
       "      <td>NaN</td>\n",
       "      <td>NaN</td>\n",
       "      <td>NaN</td>\n",
       "      <td>NaN</td>\n",
       "    </tr>\n",
       "    <tr>\n",
       "      <th>1</th>\n",
       "      <td>2015</td>\n",
       "      <td>1</td>\n",
       "      <td>1</td>\n",
       "      <td>2</td>\n",
       "      <td>5</td>\n",
       "      <td>1/2/15</td>\n",
       "      <td>AA</td>\n",
       "      <td>1302</td>\n",
       "      <td>14492</td>\n",
       "      <td>RDU</td>\n",
       "      <td>...</td>\n",
       "      <td>190</td>\n",
       "      <td>193.0</td>\n",
       "      <td>160.0</td>\n",
       "      <td>1061</td>\n",
       "      <td>5</td>\n",
       "      <td>542.0</td>\n",
       "      <td>0.0</td>\n",
       "      <td>3.0</td>\n",
       "      <td>0.0</td>\n",
       "      <td>343.0</td>\n",
       "    </tr>\n",
       "    <tr>\n",
       "      <th>2</th>\n",
       "      <td>2015</td>\n",
       "      <td>1</td>\n",
       "      <td>1</td>\n",
       "      <td>3</td>\n",
       "      <td>6</td>\n",
       "      <td>1/3/15</td>\n",
       "      <td>AA</td>\n",
       "      <td>1302</td>\n",
       "      <td>14492</td>\n",
       "      <td>RDU</td>\n",
       "      <td>...</td>\n",
       "      <td>190</td>\n",
       "      <td>203.0</td>\n",
       "      <td>167.0</td>\n",
       "      <td>1061</td>\n",
       "      <td>5</td>\n",
       "      <td>1.0</td>\n",
       "      <td>0.0</td>\n",
       "      <td>13.0</td>\n",
       "      <td>0.0</td>\n",
       "      <td>18.0</td>\n",
       "    </tr>\n",
       "    <tr>\n",
       "      <th>3</th>\n",
       "      <td>2015</td>\n",
       "      <td>1</td>\n",
       "      <td>1</td>\n",
       "      <td>4</td>\n",
       "      <td>7</td>\n",
       "      <td>1/4/15</td>\n",
       "      <td>AA</td>\n",
       "      <td>1302</td>\n",
       "      <td>14492</td>\n",
       "      <td>RDU</td>\n",
       "      <td>...</td>\n",
       "      <td>190</td>\n",
       "      <td>212.0</td>\n",
       "      <td>191.0</td>\n",
       "      <td>1061</td>\n",
       "      <td>5</td>\n",
       "      <td>2.0</td>\n",
       "      <td>0.0</td>\n",
       "      <td>22.0</td>\n",
       "      <td>0.0</td>\n",
       "      <td>28.0</td>\n",
       "    </tr>\n",
       "    <tr>\n",
       "      <th>4</th>\n",
       "      <td>2015</td>\n",
       "      <td>1</td>\n",
       "      <td>1</td>\n",
       "      <td>5</td>\n",
       "      <td>1</td>\n",
       "      <td>1/5/15</td>\n",
       "      <td>AA</td>\n",
       "      <td>1302</td>\n",
       "      <td>14492</td>\n",
       "      <td>RDU</td>\n",
       "      <td>...</td>\n",
       "      <td>190</td>\n",
       "      <td>173.0</td>\n",
       "      <td>154.0</td>\n",
       "      <td>1061</td>\n",
       "      <td>5</td>\n",
       "      <td>0.0</td>\n",
       "      <td>0.0</td>\n",
       "      <td>0.0</td>\n",
       "      <td>0.0</td>\n",
       "      <td>42.0</td>\n",
       "    </tr>\n",
       "    <tr>\n",
       "      <th>...</th>\n",
       "      <td>...</td>\n",
       "      <td>...</td>\n",
       "      <td>...</td>\n",
       "      <td>...</td>\n",
       "      <td>...</td>\n",
       "      <td>...</td>\n",
       "      <td>...</td>\n",
       "      <td>...</td>\n",
       "      <td>...</td>\n",
       "      <td>...</td>\n",
       "      <td>...</td>\n",
       "      <td>...</td>\n",
       "      <td>...</td>\n",
       "      <td>...</td>\n",
       "      <td>...</td>\n",
       "      <td>...</td>\n",
       "      <td>...</td>\n",
       "      <td>...</td>\n",
       "      <td>...</td>\n",
       "      <td>...</td>\n",
       "      <td>...</td>\n",
       "    </tr>\n",
       "    <tr>\n",
       "      <th>230675</th>\n",
       "      <td>2019</td>\n",
       "      <td>4</td>\n",
       "      <td>12</td>\n",
       "      <td>26</td>\n",
       "      <td>4</td>\n",
       "      <td>12/26/19</td>\n",
       "      <td>WN</td>\n",
       "      <td>1593</td>\n",
       "      <td>14492</td>\n",
       "      <td>RDU</td>\n",
       "      <td>...</td>\n",
       "      <td>140</td>\n",
       "      <td>114.0</td>\n",
       "      <td>102.0</td>\n",
       "      <td>667</td>\n",
       "      <td>3</td>\n",
       "      <td>NaN</td>\n",
       "      <td>NaN</td>\n",
       "      <td>NaN</td>\n",
       "      <td>NaN</td>\n",
       "      <td>NaN</td>\n",
       "    </tr>\n",
       "    <tr>\n",
       "      <th>230676</th>\n",
       "      <td>2019</td>\n",
       "      <td>4</td>\n",
       "      <td>12</td>\n",
       "      <td>26</td>\n",
       "      <td>4</td>\n",
       "      <td>12/26/19</td>\n",
       "      <td>WN</td>\n",
       "      <td>2510</td>\n",
       "      <td>14492</td>\n",
       "      <td>RDU</td>\n",
       "      <td>...</td>\n",
       "      <td>135</td>\n",
       "      <td>112.0</td>\n",
       "      <td>101.0</td>\n",
       "      <td>667</td>\n",
       "      <td>3</td>\n",
       "      <td>NaN</td>\n",
       "      <td>NaN</td>\n",
       "      <td>NaN</td>\n",
       "      <td>NaN</td>\n",
       "      <td>NaN</td>\n",
       "    </tr>\n",
       "    <tr>\n",
       "      <th>230677</th>\n",
       "      <td>2019</td>\n",
       "      <td>4</td>\n",
       "      <td>12</td>\n",
       "      <td>26</td>\n",
       "      <td>4</td>\n",
       "      <td>12/26/19</td>\n",
       "      <td>WN</td>\n",
       "      <td>864</td>\n",
       "      <td>14492</td>\n",
       "      <td>RDU</td>\n",
       "      <td>...</td>\n",
       "      <td>105</td>\n",
       "      <td>107.0</td>\n",
       "      <td>88.0</td>\n",
       "      <td>587</td>\n",
       "      <td>3</td>\n",
       "      <td>NaN</td>\n",
       "      <td>NaN</td>\n",
       "      <td>NaN</td>\n",
       "      <td>NaN</td>\n",
       "      <td>NaN</td>\n",
       "    </tr>\n",
       "    <tr>\n",
       "      <th>230678</th>\n",
       "      <td>2019</td>\n",
       "      <td>4</td>\n",
       "      <td>12</td>\n",
       "      <td>26</td>\n",
       "      <td>4</td>\n",
       "      <td>12/26/19</td>\n",
       "      <td>WN</td>\n",
       "      <td>1173</td>\n",
       "      <td>14492</td>\n",
       "      <td>RDU</td>\n",
       "      <td>...</td>\n",
       "      <td>115</td>\n",
       "      <td>99.0</td>\n",
       "      <td>88.0</td>\n",
       "      <td>587</td>\n",
       "      <td>3</td>\n",
       "      <td>NaN</td>\n",
       "      <td>NaN</td>\n",
       "      <td>NaN</td>\n",
       "      <td>NaN</td>\n",
       "      <td>NaN</td>\n",
       "    </tr>\n",
       "    <tr>\n",
       "      <th>230679</th>\n",
       "      <td>2019</td>\n",
       "      <td>4</td>\n",
       "      <td>12</td>\n",
       "      <td>26</td>\n",
       "      <td>4</td>\n",
       "      <td>12/26/19</td>\n",
       "      <td>WN</td>\n",
       "      <td>2077</td>\n",
       "      <td>14492</td>\n",
       "      <td>RDU</td>\n",
       "      <td>...</td>\n",
       "      <td>115</td>\n",
       "      <td>113.0</td>\n",
       "      <td>100.0</td>\n",
       "      <td>587</td>\n",
       "      <td>3</td>\n",
       "      <td>NaN</td>\n",
       "      <td>NaN</td>\n",
       "      <td>NaN</td>\n",
       "      <td>NaN</td>\n",
       "      <td>NaN</td>\n",
       "    </tr>\n",
       "  </tbody>\n",
       "</table>\n",
       "<p>230680 rows × 43 columns</p>\n",
       "</div>"
      ],
      "text/plain": [
       "        YEAR  QUARTER  MONTH  DAY_OF_MONTH  DAY_OF_WEEK   FL_DATE  \\\n",
       "0       2015        1      1             1            4    1/1/15   \n",
       "1       2015        1      1             2            5    1/2/15   \n",
       "2       2015        1      1             3            6    1/3/15   \n",
       "3       2015        1      1             4            7    1/4/15   \n",
       "4       2015        1      1             5            1    1/5/15   \n",
       "...      ...      ...    ...           ...          ...       ...   \n",
       "230675  2019        4     12            26            4  12/26/19   \n",
       "230676  2019        4     12            26            4  12/26/19   \n",
       "230677  2019        4     12            26            4  12/26/19   \n",
       "230678  2019        4     12            26            4  12/26/19   \n",
       "230679  2019        4     12            26            4  12/26/19   \n",
       "\n",
       "       OP_UNIQUE_CARRIER  OP_CARRIER_FL_NUM  ORIGIN_AIRPORT_ID ORIGIN  ...  \\\n",
       "0                     AA               1302              14492    RDU  ...   \n",
       "1                     AA               1302              14492    RDU  ...   \n",
       "2                     AA               1302              14492    RDU  ...   \n",
       "3                     AA               1302              14492    RDU  ...   \n",
       "4                     AA               1302              14492    RDU  ...   \n",
       "...                  ...                ...                ...    ...  ...   \n",
       "230675                WN               1593              14492    RDU  ...   \n",
       "230676                WN               2510              14492    RDU  ...   \n",
       "230677                WN                864              14492    RDU  ...   \n",
       "230678                WN               1173              14492    RDU  ...   \n",
       "230679                WN               2077              14492    RDU  ...   \n",
       "\n",
       "        CRS_ELAPSED_TIME  ACTUAL_ELAPSED_TIME AIR_TIME DISTANCE  \\\n",
       "0                    190                188.0    171.0     1061   \n",
       "1                    190                193.0    160.0     1061   \n",
       "2                    190                203.0    167.0     1061   \n",
       "3                    190                212.0    191.0     1061   \n",
       "4                    190                173.0    154.0     1061   \n",
       "...                  ...                  ...      ...      ...   \n",
       "230675               140                114.0    102.0      667   \n",
       "230676               135                112.0    101.0      667   \n",
       "230677               105                107.0     88.0      587   \n",
       "230678               115                 99.0     88.0      587   \n",
       "230679               115                113.0    100.0      587   \n",
       "\n",
       "       DISTANCE_GROUP  CARRIER_DELAY  WEATHER_DELAY  NAS_DELAY  \\\n",
       "0                   5            NaN            NaN        NaN   \n",
       "1                   5          542.0            0.0        3.0   \n",
       "2                   5            1.0            0.0       13.0   \n",
       "3                   5            2.0            0.0       22.0   \n",
       "4                   5            0.0            0.0        0.0   \n",
       "...               ...            ...            ...        ...   \n",
       "230675              3            NaN            NaN        NaN   \n",
       "230676              3            NaN            NaN        NaN   \n",
       "230677              3            NaN            NaN        NaN   \n",
       "230678              3            NaN            NaN        NaN   \n",
       "230679              3            NaN            NaN        NaN   \n",
       "\n",
       "        SECURITY_DELAY  LATE_AIRCRAFT_DELAY  \n",
       "0                  NaN                  NaN  \n",
       "1                  0.0                343.0  \n",
       "2                  0.0                 18.0  \n",
       "3                  0.0                 28.0  \n",
       "4                  0.0                 42.0  \n",
       "...                ...                  ...  \n",
       "230675             NaN                  NaN  \n",
       "230676             NaN                  NaN  \n",
       "230677             NaN                  NaN  \n",
       "230678             NaN                  NaN  \n",
       "230679             NaN                  NaN  \n",
       "\n",
       "[230680 rows x 43 columns]"
      ]
     },
     "execution_count": 66,
     "metadata": {},
     "output_type": "execute_result"
    }
   ],
   "source": [
    "csv_path = \"Resources/RDU_2015_19_Delays_Causes_ML.csv\"\n",
    "\n",
    "delays_df = pd.read_csv(csv_path)\n",
    "delays_df"
   ]
  },
  {
   "cell_type": "code",
   "execution_count": 67,
   "metadata": {},
   "outputs": [
    {
     "data": {
      "text/plain": [
       "YEAR                   230680\n",
       "QUARTER                230680\n",
       "MONTH                  230680\n",
       "DAY_OF_MONTH           230680\n",
       "DAY_OF_WEEK            230680\n",
       "FL_DATE                230680\n",
       "OP_UNIQUE_CARRIER      230680\n",
       "OP_CARRIER_FL_NUM      230680\n",
       "ORIGIN_AIRPORT_ID      230680\n",
       "ORIGIN                 230680\n",
       "ORIGIN_WAC             230680\n",
       "DEST_AIRPORT_ID        230680\n",
       "DEST                   230680\n",
       "DEST_CITY_NAME         230680\n",
       "DEST_STATE_ABR         230680\n",
       "DEST_WAC               230680\n",
       "CRS_DEP_TIME           230680\n",
       "DEP_TIME               226320\n",
       "DEP_DELAY              226187\n",
       "DEP_DELAY_NEW          226187\n",
       "DEP_DEL15              226187\n",
       "DEP_DELAY_GROUP        226187\n",
       "DEP_TIME_BLK           230680\n",
       "CRS_ARR_TIME           230680\n",
       "ARR_TIME               226087\n",
       "ARR_DELAY              225562\n",
       "ARR_DELAY_NEW          225562\n",
       "ARR_DEL15              225562\n",
       "ARR_DELAY_GROUP        225562\n",
       "ARR_TIME_BLK           230680\n",
       "CANCELLED              230680\n",
       "CANCELLATION_CODE        4530\n",
       "DIVERTED               230680\n",
       "CRS_ELAPSED_TIME       230680\n",
       "ACTUAL_ELAPSED_TIME    225626\n",
       "AIR_TIME               225626\n",
       "DISTANCE               230680\n",
       "DISTANCE_GROUP         230680\n",
       "CARRIER_DELAY           43023\n",
       "WEATHER_DELAY           43023\n",
       "NAS_DELAY               43023\n",
       "SECURITY_DELAY          43023\n",
       "LATE_AIRCRAFT_DELAY     43023\n",
       "dtype: int64"
      ]
     },
     "execution_count": 67,
     "metadata": {},
     "output_type": "execute_result"
    }
   ],
   "source": [
    "delays_df.count()"
   ]
  },
  {
   "cell_type": "code",
   "execution_count": 68,
   "metadata": {},
   "outputs": [
    {
     "data": {
      "text/html": [
       "<div>\n",
       "<style scoped>\n",
       "    .dataframe tbody tr th:only-of-type {\n",
       "        vertical-align: middle;\n",
       "    }\n",
       "\n",
       "    .dataframe tbody tr th {\n",
       "        vertical-align: top;\n",
       "    }\n",
       "\n",
       "    .dataframe thead th {\n",
       "        text-align: right;\n",
       "    }\n",
       "</style>\n",
       "<table border=\"1\" class=\"dataframe\">\n",
       "  <thead>\n",
       "    <tr style=\"text-align: right;\">\n",
       "      <th></th>\n",
       "      <th>QUARTER</th>\n",
       "      <th>MONTH</th>\n",
       "      <th>DAY_OF_MONTH</th>\n",
       "      <th>DAY_OF_WEEK</th>\n",
       "      <th>DEP_DEL15</th>\n",
       "      <th>ARR_DEL15</th>\n",
       "    </tr>\n",
       "  </thead>\n",
       "  <tbody>\n",
       "    <tr>\n",
       "      <th>0</th>\n",
       "      <td>1</td>\n",
       "      <td>1</td>\n",
       "      <td>1</td>\n",
       "      <td>4</td>\n",
       "      <td>1.0</td>\n",
       "      <td>0.0</td>\n",
       "    </tr>\n",
       "    <tr>\n",
       "      <th>1</th>\n",
       "      <td>1</td>\n",
       "      <td>1</td>\n",
       "      <td>2</td>\n",
       "      <td>5</td>\n",
       "      <td>1.0</td>\n",
       "      <td>1.0</td>\n",
       "    </tr>\n",
       "    <tr>\n",
       "      <th>2</th>\n",
       "      <td>1</td>\n",
       "      <td>1</td>\n",
       "      <td>3</td>\n",
       "      <td>6</td>\n",
       "      <td>1.0</td>\n",
       "      <td>1.0</td>\n",
       "    </tr>\n",
       "    <tr>\n",
       "      <th>3</th>\n",
       "      <td>1</td>\n",
       "      <td>1</td>\n",
       "      <td>4</td>\n",
       "      <td>7</td>\n",
       "      <td>1.0</td>\n",
       "      <td>1.0</td>\n",
       "    </tr>\n",
       "    <tr>\n",
       "      <th>4</th>\n",
       "      <td>1</td>\n",
       "      <td>1</td>\n",
       "      <td>5</td>\n",
       "      <td>1</td>\n",
       "      <td>1.0</td>\n",
       "      <td>1.0</td>\n",
       "    </tr>\n",
       "    <tr>\n",
       "      <th>...</th>\n",
       "      <td>...</td>\n",
       "      <td>...</td>\n",
       "      <td>...</td>\n",
       "      <td>...</td>\n",
       "      <td>...</td>\n",
       "      <td>...</td>\n",
       "    </tr>\n",
       "    <tr>\n",
       "      <th>230675</th>\n",
       "      <td>4</td>\n",
       "      <td>12</td>\n",
       "      <td>26</td>\n",
       "      <td>4</td>\n",
       "      <td>0.0</td>\n",
       "      <td>0.0</td>\n",
       "    </tr>\n",
       "    <tr>\n",
       "      <th>230676</th>\n",
       "      <td>4</td>\n",
       "      <td>12</td>\n",
       "      <td>26</td>\n",
       "      <td>4</td>\n",
       "      <td>0.0</td>\n",
       "      <td>0.0</td>\n",
       "    </tr>\n",
       "    <tr>\n",
       "      <th>230677</th>\n",
       "      <td>4</td>\n",
       "      <td>12</td>\n",
       "      <td>26</td>\n",
       "      <td>4</td>\n",
       "      <td>0.0</td>\n",
       "      <td>0.0</td>\n",
       "    </tr>\n",
       "    <tr>\n",
       "      <th>230678</th>\n",
       "      <td>4</td>\n",
       "      <td>12</td>\n",
       "      <td>26</td>\n",
       "      <td>4</td>\n",
       "      <td>0.0</td>\n",
       "      <td>0.0</td>\n",
       "    </tr>\n",
       "    <tr>\n",
       "      <th>230679</th>\n",
       "      <td>4</td>\n",
       "      <td>12</td>\n",
       "      <td>26</td>\n",
       "      <td>4</td>\n",
       "      <td>0.0</td>\n",
       "      <td>0.0</td>\n",
       "    </tr>\n",
       "  </tbody>\n",
       "</table>\n",
       "<p>230680 rows × 6 columns</p>\n",
       "</div>"
      ],
      "text/plain": [
       "        QUARTER  MONTH  DAY_OF_MONTH  DAY_OF_WEEK  DEP_DEL15  ARR_DEL15\n",
       "0             1      1             1            4        1.0        0.0\n",
       "1             1      1             2            5        1.0        1.0\n",
       "2             1      1             3            6        1.0        1.0\n",
       "3             1      1             4            7        1.0        1.0\n",
       "4             1      1             5            1        1.0        1.0\n",
       "...         ...    ...           ...          ...        ...        ...\n",
       "230675        4     12            26            4        0.0        0.0\n",
       "230676        4     12            26            4        0.0        0.0\n",
       "230677        4     12            26            4        0.0        0.0\n",
       "230678        4     12            26            4        0.0        0.0\n",
       "230679        4     12            26            4        0.0        0.0\n",
       "\n",
       "[230680 rows x 6 columns]"
      ]
     },
     "execution_count": 68,
     "metadata": {},
     "output_type": "execute_result"
    }
   ],
   "source": [
    "delays_df = delays_df.drop(['YEAR','FL_DATE','OP_UNIQUE_CARRIER','OP_CARRIER_FL_NUM','ORIGIN_AIRPORT_ID','ORIGIN','ORIGIN_WAC','DEST_AIRPORT_ID','DEST','DEST_CITY_NAME','DEST_STATE_ABR','DEST_WAC','CRS_DEP_TIME','DEP_TIME','DEP_DELAY','DEP_DELAY_NEW','DEP_DELAY_GROUP','DEP_TIME_BLK','CRS_ARR_TIME','ARR_TIME','ARR_DELAY','ARR_DELAY_NEW','ARR_DELAY_GROUP','ARR_TIME_BLK','CANCELLED','CANCELLATION_CODE','DIVERTED','CRS_ELAPSED_TIME','ACTUAL_ELAPSED_TIME','AIR_TIME','DISTANCE','DISTANCE_GROUP','CARRIER_DELAY','WEATHER_DELAY','NAS_DELAY','SECURITY_DELAY','LATE_AIRCRAFT_DELAY'], axis =1)\n",
    "delays_df"
   ]
  },
  {
   "cell_type": "code",
   "execution_count": 69,
   "metadata": {},
   "outputs": [
    {
     "data": {
      "text/plain": [
       "Index(['QUARTER', 'MONTH', 'DAY_OF_MONTH', 'DAY_OF_WEEK', 'DEP_DEL15',\n",
       "       'ARR_DEL15'],\n",
       "      dtype='object')"
      ]
     },
     "execution_count": 69,
     "metadata": {},
     "output_type": "execute_result"
    }
   ],
   "source": [
    "delays_df.columns"
   ]
  },
  {
   "cell_type": "code",
   "execution_count": 70,
   "metadata": {},
   "outputs": [
    {
     "data": {
      "text/plain": [
       "(230680, 6)"
      ]
     },
     "execution_count": 70,
     "metadata": {},
     "output_type": "execute_result"
    }
   ],
   "source": [
    "delays_df.shape"
   ]
  },
  {
   "cell_type": "code",
   "execution_count": 71,
   "metadata": {},
   "outputs": [
    {
     "data": {
      "text/plain": [
       "(225436, 6)"
      ]
     },
     "execution_count": 71,
     "metadata": {},
     "output_type": "execute_result"
    }
   ],
   "source": [
    "delays_df.dropna(how = 'any').shape"
   ]
  },
  {
   "cell_type": "code",
   "execution_count": 72,
   "metadata": {},
   "outputs": [
    {
     "data": {
      "text/plain": [
       "QUARTER            0\n",
       "MONTH              0\n",
       "DAY_OF_MONTH       0\n",
       "DAY_OF_WEEK        0\n",
       "DEP_DEL15       4493\n",
       "ARR_DEL15       5118\n",
       "dtype: int64"
      ]
     },
     "execution_count": 72,
     "metadata": {},
     "output_type": "execute_result"
    }
   ],
   "source": [
    "delays_df.isnull().sum()"
   ]
  },
  {
   "cell_type": "code",
   "execution_count": 73,
   "metadata": {},
   "outputs": [
    {
     "data": {
      "text/plain": [
       "QUARTER         230680\n",
       "MONTH           230680\n",
       "DAY_OF_MONTH    230680\n",
       "DAY_OF_WEEK     230680\n",
       "DEP_DEL15       226187\n",
       "ARR_DEL15       225562\n",
       "dtype: int64"
      ]
     },
     "execution_count": 73,
     "metadata": {},
     "output_type": "execute_result"
    }
   ],
   "source": [
    "delays_df.count()"
   ]
  },
  {
   "cell_type": "code",
   "execution_count": 74,
   "metadata": {},
   "outputs": [],
   "source": [
    "delays_df = delays_df.fillna({'ARR_DEL15': 1})"
   ]
  },
  {
   "cell_type": "code",
   "execution_count": 75,
   "metadata": {},
   "outputs": [],
   "source": [
    "delays_df = delays_df.fillna({'DEP_DEL15': 1})"
   ]
  },
  {
   "cell_type": "code",
   "execution_count": 76,
   "metadata": {},
   "outputs": [],
   "source": [
    "delays_df.dropna(axis=0, how='any', inplace=True)"
   ]
  },
  {
   "cell_type": "code",
   "execution_count": 77,
   "metadata": {},
   "outputs": [
    {
     "data": {
      "text/plain": [
       "QUARTER         230680\n",
       "MONTH           230680\n",
       "DAY_OF_MONTH    230680\n",
       "DAY_OF_WEEK     230680\n",
       "DEP_DEL15       230680\n",
       "ARR_DEL15       230680\n",
       "dtype: int64"
      ]
     },
     "execution_count": 77,
     "metadata": {},
     "output_type": "execute_result"
    }
   ],
   "source": [
    "delays_df.count()"
   ]
  },
  {
   "cell_type": "code",
   "execution_count": 78,
   "metadata": {},
   "outputs": [],
   "source": [
    "delays_df.to_csv('/Users/mikaelshall/Desktop/DelaysCSV/delays2.csv',index=False)"
   ]
  },
  {
   "cell_type": "code",
   "execution_count": 79,
   "metadata": {},
   "outputs": [
    {
     "data": {
      "text/html": [
       "<div>\n",
       "<style scoped>\n",
       "    .dataframe tbody tr th:only-of-type {\n",
       "        vertical-align: middle;\n",
       "    }\n",
       "\n",
       "    .dataframe tbody tr th {\n",
       "        vertical-align: top;\n",
       "    }\n",
       "\n",
       "    .dataframe thead th {\n",
       "        text-align: right;\n",
       "    }\n",
       "</style>\n",
       "<table border=\"1\" class=\"dataframe\">\n",
       "  <thead>\n",
       "    <tr style=\"text-align: right;\">\n",
       "      <th></th>\n",
       "      <th>QUARTER</th>\n",
       "      <th>MONTH</th>\n",
       "      <th>DAY_OF_MONTH</th>\n",
       "      <th>DAY_OF_WEEK</th>\n",
       "      <th>DEP_DEL15</th>\n",
       "      <th>ARR_DEL15</th>\n",
       "    </tr>\n",
       "  </thead>\n",
       "  <tbody>\n",
       "    <tr>\n",
       "      <th>0</th>\n",
       "      <td>1</td>\n",
       "      <td>1</td>\n",
       "      <td>1</td>\n",
       "      <td>4</td>\n",
       "      <td>1.0</td>\n",
       "      <td>0.0</td>\n",
       "    </tr>\n",
       "    <tr>\n",
       "      <th>1</th>\n",
       "      <td>1</td>\n",
       "      <td>1</td>\n",
       "      <td>2</td>\n",
       "      <td>5</td>\n",
       "      <td>1.0</td>\n",
       "      <td>1.0</td>\n",
       "    </tr>\n",
       "    <tr>\n",
       "      <th>2</th>\n",
       "      <td>1</td>\n",
       "      <td>1</td>\n",
       "      <td>3</td>\n",
       "      <td>6</td>\n",
       "      <td>1.0</td>\n",
       "      <td>1.0</td>\n",
       "    </tr>\n",
       "    <tr>\n",
       "      <th>3</th>\n",
       "      <td>1</td>\n",
       "      <td>1</td>\n",
       "      <td>4</td>\n",
       "      <td>7</td>\n",
       "      <td>1.0</td>\n",
       "      <td>1.0</td>\n",
       "    </tr>\n",
       "    <tr>\n",
       "      <th>4</th>\n",
       "      <td>1</td>\n",
       "      <td>1</td>\n",
       "      <td>5</td>\n",
       "      <td>1</td>\n",
       "      <td>1.0</td>\n",
       "      <td>1.0</td>\n",
       "    </tr>\n",
       "    <tr>\n",
       "      <th>...</th>\n",
       "      <td>...</td>\n",
       "      <td>...</td>\n",
       "      <td>...</td>\n",
       "      <td>...</td>\n",
       "      <td>...</td>\n",
       "      <td>...</td>\n",
       "    </tr>\n",
       "    <tr>\n",
       "      <th>230675</th>\n",
       "      <td>4</td>\n",
       "      <td>12</td>\n",
       "      <td>26</td>\n",
       "      <td>4</td>\n",
       "      <td>0.0</td>\n",
       "      <td>0.0</td>\n",
       "    </tr>\n",
       "    <tr>\n",
       "      <th>230676</th>\n",
       "      <td>4</td>\n",
       "      <td>12</td>\n",
       "      <td>26</td>\n",
       "      <td>4</td>\n",
       "      <td>0.0</td>\n",
       "      <td>0.0</td>\n",
       "    </tr>\n",
       "    <tr>\n",
       "      <th>230677</th>\n",
       "      <td>4</td>\n",
       "      <td>12</td>\n",
       "      <td>26</td>\n",
       "      <td>4</td>\n",
       "      <td>0.0</td>\n",
       "      <td>0.0</td>\n",
       "    </tr>\n",
       "    <tr>\n",
       "      <th>230678</th>\n",
       "      <td>4</td>\n",
       "      <td>12</td>\n",
       "      <td>26</td>\n",
       "      <td>4</td>\n",
       "      <td>0.0</td>\n",
       "      <td>0.0</td>\n",
       "    </tr>\n",
       "    <tr>\n",
       "      <th>230679</th>\n",
       "      <td>4</td>\n",
       "      <td>12</td>\n",
       "      <td>26</td>\n",
       "      <td>4</td>\n",
       "      <td>0.0</td>\n",
       "      <td>0.0</td>\n",
       "    </tr>\n",
       "  </tbody>\n",
       "</table>\n",
       "<p>230680 rows × 6 columns</p>\n",
       "</div>"
      ],
      "text/plain": [
       "        QUARTER  MONTH  DAY_OF_MONTH  DAY_OF_WEEK  DEP_DEL15  ARR_DEL15\n",
       "0             1      1             1            4        1.0        0.0\n",
       "1             1      1             2            5        1.0        1.0\n",
       "2             1      1             3            6        1.0        1.0\n",
       "3             1      1             4            7        1.0        1.0\n",
       "4             1      1             5            1        1.0        1.0\n",
       "...         ...    ...           ...          ...        ...        ...\n",
       "230675        4     12            26            4        0.0        0.0\n",
       "230676        4     12            26            4        0.0        0.0\n",
       "230677        4     12            26            4        0.0        0.0\n",
       "230678        4     12            26            4        0.0        0.0\n",
       "230679        4     12            26            4        0.0        0.0\n",
       "\n",
       "[230680 rows x 6 columns]"
      ]
     },
     "execution_count": 79,
     "metadata": {},
     "output_type": "execute_result"
    }
   ],
   "source": [
    "delays_df"
   ]
  },
  {
   "cell_type": "code",
   "execution_count": 80,
   "metadata": {},
   "outputs": [],
   "source": [
    "# Prediction of Arrival Delay \n",
    "\n",
    "from sklearn.linear_model import LinearRegression "
   ]
  },
  {
   "cell_type": "code",
   "execution_count": 81,
   "metadata": {},
   "outputs": [],
   "source": [
    "X = delays_df.drop(columns=['ARR_DEL15'])\n",
    "y = delays_df.loc[:,['ARR_DEL15']]"
   ]
  },
  {
   "cell_type": "code",
   "execution_count": 82,
   "metadata": {},
   "outputs": [
    {
     "data": {
      "text/plain": [
       "LinearRegression()"
      ]
     },
     "execution_count": 82,
     "metadata": {},
     "output_type": "execute_result"
    }
   ],
   "source": [
    "X_train, X_test, y_train, y_test = train_test_split(X,y,test_size=0.1,random_state=62)\n",
    "\n",
    "clf = LinearRegression()\n",
    "clf.fit(X_train, y_train)"
   ]
  },
  {
   "cell_type": "code",
   "execution_count": 83,
   "metadata": {},
   "outputs": [
    {
     "data": {
      "text/html": [
       "<div>\n",
       "<style scoped>\n",
       "    .dataframe tbody tr th:only-of-type {\n",
       "        vertical-align: middle;\n",
       "    }\n",
       "\n",
       "    .dataframe tbody tr th {\n",
       "        vertical-align: top;\n",
       "    }\n",
       "\n",
       "    .dataframe thead th {\n",
       "        text-align: right;\n",
       "    }\n",
       "</style>\n",
       "<table border=\"1\" class=\"dataframe\">\n",
       "  <thead>\n",
       "    <tr style=\"text-align: right;\">\n",
       "      <th></th>\n",
       "      <th>QUARTER</th>\n",
       "      <th>MONTH</th>\n",
       "      <th>DAY_OF_MONTH</th>\n",
       "      <th>DAY_OF_WEEK</th>\n",
       "      <th>DEP_DEL15</th>\n",
       "    </tr>\n",
       "  </thead>\n",
       "  <tbody>\n",
       "    <tr>\n",
       "      <th>208579</th>\n",
       "      <td>3</td>\n",
       "      <td>8</td>\n",
       "      <td>29</td>\n",
       "      <td>4</td>\n",
       "      <td>0.0</td>\n",
       "    </tr>\n",
       "  </tbody>\n",
       "</table>\n",
       "</div>"
      ],
      "text/plain": [
       "        QUARTER  MONTH  DAY_OF_MONTH  DAY_OF_WEEK  DEP_DEL15\n",
       "208579        3      8            29            4        0.0"
      ]
     },
     "execution_count": 83,
     "metadata": {},
     "output_type": "execute_result"
    }
   ],
   "source": [
    "X_test.head(1)"
   ]
  },
  {
   "cell_type": "code",
   "execution_count": 84,
   "metadata": {},
   "outputs": [],
   "source": [
    "# x = [QUARTER, MONTH, DAY_OF_MONTH, DAY_OF_WEEK, DEP_DEL15]\n",
    "# QUARTER 1 - 4 \n",
    "# MONTH 1 - 12\n",
    "# DAY_OF_MONTH 1 - 30\n",
    "# DAY_OF_WEEK 1 - 7 \n",
    "# DEP_DEL15 0 or 1; 0 if it is not delayed, 1 it is. \n",
    "\n",
    "x = [4, 12, 20, 5, 0]"
   ]
  },
  {
   "cell_type": "code",
   "execution_count": 85,
   "metadata": {},
   "outputs": [
    {
     "data": {
      "text/plain": [
       "array([[0.05082192]])"
      ]
     },
     "execution_count": 85,
     "metadata": {},
     "output_type": "execute_result"
    }
   ],
   "source": [
    "clf.predict([x])"
   ]
  },
  {
   "cell_type": "code",
   "execution_count": 86,
   "metadata": {},
   "outputs": [
    {
     "data": {
      "text/plain": [
       "array([[0.81101902]])"
      ]
     },
     "execution_count": 86,
     "metadata": {},
     "output_type": "execute_result"
    }
   ],
   "source": [
    "# If you change the Arrival Delay to 1, chances are a Departure Delay are possible. \n",
    "\n",
    "x = [4, 12, 20, 5, 1]\n",
    "\n",
    "clf.predict([x])"
   ]
  },
  {
   "cell_type": "code",
   "execution_count": 87,
   "metadata": {},
   "outputs": [],
   "source": [
    "# Prediction of Departure Delay \n",
    "\n",
    "X = delays_df.drop(columns=['DEP_DEL15'])\n",
    "y = delays_df.loc[:,['DEP_DEL15']]"
   ]
  },
  {
   "cell_type": "code",
   "execution_count": 88,
   "metadata": {},
   "outputs": [
    {
     "data": {
      "text/plain": [
       "LinearRegression()"
      ]
     },
     "execution_count": 88,
     "metadata": {},
     "output_type": "execute_result"
    }
   ],
   "source": [
    "X_train, X_test, y_train, y_test = train_test_split(X,y,test_size=0.1,random_state=62)\n",
    "\n",
    "clf = LinearRegression()\n",
    "clf.fit(X_train, y_train)"
   ]
  },
  {
   "cell_type": "code",
   "execution_count": 89,
   "metadata": {},
   "outputs": [
    {
     "data": {
      "text/plain": [
       "array([[0.04482445]])"
      ]
     },
     "execution_count": 89,
     "metadata": {},
     "output_type": "execute_result"
    }
   ],
   "source": [
    "# p = [QUARTER, MONTH, DAY_OF_MONTH, DAY_OF_WEEK, ARR_DEL15]\n",
    "# QUARTER  1 - 4\n",
    "# MONTH  1 - 12\n",
    "# DAY_OF_MONTH  1 - 30\n",
    "# DAY_OF_WEEK  1 - 7\n",
    "# ARR_DEL15  0 or 1 \n",
    "\n",
    "x = [4, 12, 24, 5, 0]\n",
    "\n",
    "clf.predict([x])"
   ]
  },
  {
   "cell_type": "code",
   "execution_count": 90,
   "metadata": {},
   "outputs": [
    {
     "data": {
      "text/plain": [
       "array([[0.78457408]])"
      ]
     },
     "execution_count": 90,
     "metadata": {},
     "output_type": "execute_result"
    }
   ],
   "source": [
    "# If you change the Arrival Delay to 1, chances are a Depature Delay will be possible.\n",
    "\n",
    "# p = [QUARTER, MONTH, DAY_OF_MONTH, DAY_OF_WEEK, ARR_DEL15]\n",
    "x = [4, 12, 20, 5, 1]\n",
    "clf.predict([x])"
   ]
  },
  {
   "cell_type": "code",
   "execution_count": 93,
   "metadata": {},
   "outputs": [
    {
     "name": "stderr",
     "output_type": "stream",
     "text": [
      "/Users/mikaelshall/opt/anaconda3/envs/PythonData/lib/python3.6/site-packages/ipykernel_launcher.py:4: DataConversionWarning: A column-vector y was passed when a 1d array was expected. Please change the shape of y to (n_samples,), for example using ravel().\n",
      "  after removing the cwd from sys.path.\n"
     ]
    },
    {
     "data": {
      "text/plain": [
       "0.9191780821917809"
      ]
     },
     "execution_count": 93,
     "metadata": {},
     "output_type": "execute_result"
    }
   ],
   "source": [
    "# Use RFC to identify which flight factor has the most the most significance on flight delays\n",
    "\n",
    "from sklearn.ensemble import RandomForestClassifier\n",
    "\n",
    "rf = RandomForestClassifier(n_estimators=200)\n",
    "rf = rf.fit(X,y)\n",
    "rf.score(X,y)"
   ]
  },
  {
   "cell_type": "code",
   "execution_count": 96,
   "metadata": {},
   "outputs": [
    {
     "data": {
      "text/plain": [
       "[(0.9400329706082897, 'ARR_DEL15'),\n",
       " (0.036132140662780365, 'DAY_OF_MONTH'),\n",
       " (0.012690623606095465, 'DAY_OF_WEEK'),\n",
       " (0.009367481156252102, 'MONTH'),\n",
       " (0.001776783966582374, 'QUARTER')]"
      ]
     },
     "execution_count": 96,
     "metadata": {},
     "output_type": "execute_result"
    }
   ],
   "source": [
    "delay_factors = rf.feature_importances_\n",
    "delay_factors = sorted(zip(importances, X), reverse=True)\n",
    "delay_factors"
   ]
  },
  {
   "cell_type": "code",
   "execution_count": 97,
   "metadata": {},
   "outputs": [
    {
     "data": {
      "text/plain": [
       "array([0., 1.])"
      ]
     },
     "execution_count": 97,
     "metadata": {},
     "output_type": "execute_result"
    }
   ],
   "source": [
    "classifier.classes_"
   ]
  },
  {
   "cell_type": "code",
   "execution_count": 40,
   "metadata": {},
   "outputs": [
    {
     "name": "stdout",
     "output_type": "stream",
     "text": [
      "First 200 Predictions:   [0. 0. 0. 0. 0. 0. 0. 0. 0. 0. 0. 0. 0. 0. 0. 0. 0. 0. 0. 0. 0. 0. 0. 0.\n",
      " 0. 0. 0. 0. 0. 0. 0. 0. 0. 0. 0. 0. 0. 0. 0. 0. 0. 0. 0. 0. 0. 0. 0. 0.\n",
      " 0. 0. 0. 0. 0. 0. 0. 0. 0. 0. 0. 0. 0. 0. 0. 0. 0. 0. 0. 0. 0. 0. 0. 0.\n",
      " 0. 0. 0. 0. 0. 0. 0. 0. 0. 0. 0. 0. 0. 1. 0. 0. 0. 0. 0. 0. 0. 0. 0. 0.\n",
      " 0. 0. 0. 0. 0. 0. 0. 0. 0. 0. 0. 0. 0. 0. 0. 0. 0. 0. 0. 0. 0. 0. 0. 0.\n",
      " 0. 0. 0. 0. 0. 0. 0. 0. 1. 0. 1. 0. 0. 0. 0. 0. 0. 0. 0. 0. 0. 0. 0. 0.\n",
      " 0. 0. 0. 0. 0. 0. 0. 0. 0. 0. 0. 0. 0. 0. 0. 0. 0. 0. 0. 0. 0. 0. 0. 0.\n",
      " 0. 0. 0. 0. 0. 0. 0. 0. 0. 0. 0. 0. 0. 0. 0. 0. 0. 0. 0. 0. 0. 0. 0. 0.\n",
      " 0. 0. 0. 0. 0. 0. 0. 0.]\n",
      "First 200 Actual lablels: [0.0, 1.0, 0.0, 0.0, 0.0, 0.0, 1.0, 1.0, 1.0, 0.0, 0.0, 0.0, 0.0, 1.0, 0.0, 0.0, 1.0, 0.0, 0.0, 0.0, 1.0, 0.0, 0.0, 0.0, 0.0, 0.0, 1.0, 0.0, 1.0, 0.0, 0.0, 1.0, 0.0, 0.0, 0.0, 0.0, 0.0, 0.0, 0.0, 0.0, 0.0, 0.0, 0.0, 0.0, 0.0, 0.0, 1.0, 0.0, 0.0, 1.0, 0.0, 0.0, 0.0, 1.0, 1.0, 0.0, 0.0, 0.0, 0.0, 0.0, 0.0, 1.0, 0.0, 0.0, 0.0, 0.0, 0.0, 0.0, 0.0, 0.0, 1.0, 0.0, 0.0, 1.0, 0.0, 0.0, 0.0, 0.0, 0.0, 0.0, 1.0, 0.0, 0.0, 0.0, 1.0, 1.0, 0.0, 0.0, 0.0, 0.0, 0.0, 1.0, 0.0, 0.0, 0.0, 0.0, 0.0, 0.0, 1.0, 1.0, 0.0, 1.0, 1.0, 0.0, 1.0, 0.0, 1.0, 0.0, 0.0, 0.0, 0.0, 0.0, 1.0, 0.0, 0.0, 0.0, 1.0, 0.0, 1.0, 0.0, 0.0, 0.0, 0.0, 0.0, 0.0, 0.0, 0.0, 0.0, 0.0, 1.0, 0.0, 0.0, 0.0, 0.0, 0.0, 0.0, 1.0, 0.0, 1.0, 1.0, 0.0, 0.0, 0.0, 1.0, 1.0, 1.0, 0.0, 0.0, 0.0, 0.0, 0.0, 0.0, 0.0, 0.0, 1.0, 1.0, 0.0, 0.0, 1.0, 1.0, 0.0, 0.0, 0.0, 0.0, 0.0, 0.0, 0.0, 0.0, 0.0, 0.0, 0.0, 0.0, 1.0, 0.0, 0.0, 0.0, 1.0, 0.0, 0.0, 1.0, 0.0, 0.0, 1.0, 0.0, 0.0, 1.0, 1.0, 0.0, 0.0, 0.0, 0.0, 0.0, 0.0, 0.0, 0.0, 1.0, 0.0, 0.0, 0.0, 0.0]\n"
     ]
    }
   ],
   "source": [
    "#Make predictions \n",
    "predcictions = classifier.predict_proba(X_test)\n",
    "print(f\"First 200 Predictions:   {predictions[:200]}\")\n",
    "print(f\"First 200 Actual lablels: {y_test[:200].tolist()}\")"
   ]
  },
  {
   "cell_type": "code",
   "execution_count": null,
   "metadata": {},
   "outputs": [],
   "source": []
  }
 ],
 "metadata": {
  "kernelspec": {
   "display_name": "Python [conda env:PythonData] *",
   "language": "python",
   "name": "conda-env-PythonData-py"
  },
  "language_info": {
   "codemirror_mode": {
    "name": "ipython",
    "version": 3
   },
   "file_extension": ".py",
   "mimetype": "text/x-python",
   "name": "python",
   "nbconvert_exporter": "python",
   "pygments_lexer": "ipython3",
   "version": "3.6.10"
  }
 },
 "nbformat": 4,
 "nbformat_minor": 4
}
